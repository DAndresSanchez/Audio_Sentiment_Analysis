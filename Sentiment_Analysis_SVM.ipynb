{
 "cells": [
  {
   "cell_type": "markdown",
   "metadata": {},
   "source": [
    "# Support Vector Machine Classifier for Sentiment Analysis of Conversations"
   ]
  },
  {
   "cell_type": "code",
   "execution_count": 16,
   "metadata": {},
   "outputs": [],
   "source": [
    "from scipy.io.wavfile import read, write\n",
    "import librosa\n",
    "\n",
    "import matplotlib.pyplot as plt\n",
    "import numpy as np\n",
    "import pandas as pd\n",
    "import os\n",
    "\n",
    "from sklearn import preprocessing\n",
    "from sklearn.model_selection import train_test_split\n",
    "from sklearn.svm import SVC\n",
    "from sklearn.metrics import confusion_matrix, plot_confusion_matrix\n",
    "\n",
    "from Audio_Preprocess import *"
   ]
  },
  {
   "cell_type": "code",
   "execution_count": 2,
   "metadata": {},
   "outputs": [],
   "source": [
    "# Import data\n",
    "npz = np.load('Sentiment_analysis_data.npz')\n",
    "x = npz['inputs']\n",
    "y = npz['targets']"
   ]
  },
  {
   "cell_type": "code",
   "execution_count": 3,
   "metadata": {},
   "outputs": [],
   "source": [
    "# Standarise data\n",
    "scaled_x = preprocessing.scale(x)"
   ]
  },
  {
   "cell_type": "code",
   "execution_count": 4,
   "metadata": {},
   "outputs": [],
   "source": [
    "# Shuffle data\n",
    "n = x.shape[0]\n",
    "shuffled_indices = np.arange(n)\n",
    "np.random.shuffle(shuffled_indices)\n",
    "\n",
    "shuffled_x = scaled_x[shuffled_indices]\n",
    "shuffled_y = y[shuffled_indices]"
   ]
  },
  {
   "cell_type": "code",
   "execution_count": 5,
   "metadata": {},
   "outputs": [],
   "source": [
    "# Merge inputs and targets\n",
    "data = add_label_arrays(shuffled_x, np.expand_dims(shuffled_y, axis=1))"
   ]
  },
  {
   "cell_type": "code",
   "execution_count": 6,
   "metadata": {},
   "outputs": [
    {
     "data": {
      "text/html": [
       "<div>\n",
       "<style scoped>\n",
       "    .dataframe tbody tr th:only-of-type {\n",
       "        vertical-align: middle;\n",
       "    }\n",
       "\n",
       "    .dataframe tbody tr th {\n",
       "        vertical-align: top;\n",
       "    }\n",
       "\n",
       "    .dataframe thead th {\n",
       "        text-align: right;\n",
       "    }\n",
       "</style>\n",
       "<table border=\"1\" class=\"dataframe\">\n",
       "  <thead>\n",
       "    <tr style=\"text-align: right;\">\n",
       "      <th></th>\n",
       "      <th>c0</th>\n",
       "      <th>c1</th>\n",
       "      <th>c2</th>\n",
       "      <th>c3</th>\n",
       "      <th>c4</th>\n",
       "      <th>c5</th>\n",
       "      <th>c6</th>\n",
       "      <th>c7</th>\n",
       "      <th>c8</th>\n",
       "      <th>c9</th>\n",
       "      <th>...</th>\n",
       "      <th>c19</th>\n",
       "      <th>c20</th>\n",
       "      <th>c21</th>\n",
       "      <th>c22</th>\n",
       "      <th>c23</th>\n",
       "      <th>c24</th>\n",
       "      <th>c25</th>\n",
       "      <th>c26</th>\n",
       "      <th>c27</th>\n",
       "      <th>label</th>\n",
       "    </tr>\n",
       "  </thead>\n",
       "  <tbody>\n",
       "    <tr>\n",
       "      <th>0</th>\n",
       "      <td>0.32072879406190613</td>\n",
       "      <td>-1.0263749954430366</td>\n",
       "      <td>0.7567518851183276</td>\n",
       "      <td>-1.0542719619746872</td>\n",
       "      <td>-0.5815367082161955</td>\n",
       "      <td>-0.09054446600061244</td>\n",
       "      <td>-0.11445370900539575</td>\n",
       "      <td>0.4464874549051985</td>\n",
       "      <td>0.7358584453610909</td>\n",
       "      <td>0.07771850651951613</td>\n",
       "      <td>...</td>\n",
       "      <td>0.2879091543370874</td>\n",
       "      <td>-1.5493180862063334</td>\n",
       "      <td>-0.15788606130945496</td>\n",
       "      <td>0.5471752066833696</td>\n",
       "      <td>-1.175534599007752</td>\n",
       "      <td>-0.9048604451867792</td>\n",
       "      <td>0.621564174236437</td>\n",
       "      <td>1.417309324236045</td>\n",
       "      <td>0.4809566857112128</td>\n",
       "      <td>happy</td>\n",
       "    </tr>\n",
       "    <tr>\n",
       "      <th>1</th>\n",
       "      <td>0.6594402196655799</td>\n",
       "      <td>0.24031742372175055</td>\n",
       "      <td>-1.5277246739404864</td>\n",
       "      <td>0.7774693499386174</td>\n",
       "      <td>-0.6291798105453122</td>\n",
       "      <td>0.6415747813915204</td>\n",
       "      <td>-0.19440137439544694</td>\n",
       "      <td>0.7892307167763061</td>\n",
       "      <td>-0.9336692750247153</td>\n",
       "      <td>-0.010945344577513016</td>\n",
       "      <td>...</td>\n",
       "      <td>0.2920515369764563</td>\n",
       "      <td>0.6658830304196417</td>\n",
       "      <td>1.0530175682559997</td>\n",
       "      <td>1.1140801631298103</td>\n",
       "      <td>-0.1881269992115197</td>\n",
       "      <td>0.052099559439818574</td>\n",
       "      <td>-0.0693177821757523</td>\n",
       "      <td>0.8999714644899497</td>\n",
       "      <td>0.5737228442997263</td>\n",
       "      <td>surprise</td>\n",
       "    </tr>\n",
       "    <tr>\n",
       "      <th>2</th>\n",
       "      <td>0.20937214458712505</td>\n",
       "      <td>-0.3641375208286378</td>\n",
       "      <td>-0.6612014479954438</td>\n",
       "      <td>0.6964967293675428</td>\n",
       "      <td>-2.2859324312078213</td>\n",
       "      <td>1.8456723523106793</td>\n",
       "      <td>-1.826990604996516</td>\n",
       "      <td>-0.49821800373989994</td>\n",
       "      <td>0.8215197024201131</td>\n",
       "      <td>-1.2511887372218273</td>\n",
       "      <td>...</td>\n",
       "      <td>-0.8835591026215293</td>\n",
       "      <td>-0.2829453599373765</td>\n",
       "      <td>0.3661363760276953</td>\n",
       "      <td>-1.8637351572624115</td>\n",
       "      <td>-1.0041660206300473</td>\n",
       "      <td>-0.8782056787987305</td>\n",
       "      <td>0.6158962046447305</td>\n",
       "      <td>1.1577789169250503</td>\n",
       "      <td>0.5900629110858302</td>\n",
       "      <td>surprise</td>\n",
       "    </tr>\n",
       "    <tr>\n",
       "      <th>3</th>\n",
       "      <td>0.52599831997946</td>\n",
       "      <td>-0.12804219156244573</td>\n",
       "      <td>-0.14685157099088647</td>\n",
       "      <td>0.19295859393345952</td>\n",
       "      <td>-1.0429067267553467</td>\n",
       "      <td>1.5978098884877348</td>\n",
       "      <td>-1.2953564834869749</td>\n",
       "      <td>-0.4149992211434744</td>\n",
       "      <td>0.2062411907457589</td>\n",
       "      <td>-1.2325154382292496</td>\n",
       "      <td>...</td>\n",
       "      <td>-1.5379307293595572</td>\n",
       "      <td>-1.332159769214242</td>\n",
       "      <td>-1.0533326576110094</td>\n",
       "      <td>-0.5312318198222811</td>\n",
       "      <td>-0.3680435785276729</td>\n",
       "      <td>1.6352667467588007</td>\n",
       "      <td>0.7972001479731627</td>\n",
       "      <td>1.1578692738945455</td>\n",
       "      <td>0.13752933595038316</td>\n",
       "      <td>surprise</td>\n",
       "    </tr>\n",
       "    <tr>\n",
       "      <th>4</th>\n",
       "      <td>-0.5531292927541207</td>\n",
       "      <td>-0.6228674669523857</td>\n",
       "      <td>-0.17290175933375657</td>\n",
       "      <td>-1.5948555111190945</td>\n",
       "      <td>1.6736509958832442</td>\n",
       "      <td>-0.7587061246295272</td>\n",
       "      <td>0.5012573335777337</td>\n",
       "      <td>1.151325684201674</td>\n",
       "      <td>-1.1307791773792308</td>\n",
       "      <td>-1.5778237133814033</td>\n",
       "      <td>...</td>\n",
       "      <td>1.2215734642393308</td>\n",
       "      <td>0.5003040960505633</td>\n",
       "      <td>1.1543028873688632</td>\n",
       "      <td>-0.6152189999831955</td>\n",
       "      <td>0.1736727589714408</td>\n",
       "      <td>-0.10933612765320183</td>\n",
       "      <td>-0.78662285871362</td>\n",
       "      <td>-0.3680493638564748</td>\n",
       "      <td>-1.3709914336810212</td>\n",
       "      <td>angry</td>\n",
       "    </tr>\n",
       "  </tbody>\n",
       "</table>\n",
       "<p>5 rows × 29 columns</p>\n",
       "</div>"
      ],
      "text/plain": [
       "                    c0                    c1                    c2  \\\n",
       "0  0.32072879406190613   -1.0263749954430366    0.7567518851183276   \n",
       "1   0.6594402196655799   0.24031742372175055   -1.5277246739404864   \n",
       "2  0.20937214458712505   -0.3641375208286378   -0.6612014479954438   \n",
       "3     0.52599831997946  -0.12804219156244573  -0.14685157099088647   \n",
       "4  -0.5531292927541207   -0.6228674669523857  -0.17290175933375657   \n",
       "\n",
       "                    c3                   c4                    c5  \\\n",
       "0  -1.0542719619746872  -0.5815367082161955  -0.09054446600061244   \n",
       "1   0.7774693499386174  -0.6291798105453122    0.6415747813915204   \n",
       "2   0.6964967293675428  -2.2859324312078213    1.8456723523106793   \n",
       "3  0.19295859393345952  -1.0429067267553467    1.5978098884877348   \n",
       "4  -1.5948555111190945   1.6736509958832442   -0.7587061246295272   \n",
       "\n",
       "                     c6                    c7                   c8  \\\n",
       "0  -0.11445370900539575    0.4464874549051985   0.7358584453610909   \n",
       "1  -0.19440137439544694    0.7892307167763061  -0.9336692750247153   \n",
       "2    -1.826990604996516  -0.49821800373989994   0.8215197024201131   \n",
       "3   -1.2953564834869749   -0.4149992211434744   0.2062411907457589   \n",
       "4    0.5012573335777337     1.151325684201674  -1.1307791773792308   \n",
       "\n",
       "                      c9  ...                  c19                  c20  \\\n",
       "0    0.07771850651951613  ...   0.2879091543370874  -1.5493180862063334   \n",
       "1  -0.010945344577513016  ...   0.2920515369764563   0.6658830304196417   \n",
       "2    -1.2511887372218273  ...  -0.8835591026215293  -0.2829453599373765   \n",
       "3    -1.2325154382292496  ...  -1.5379307293595572   -1.332159769214242   \n",
       "4    -1.5778237133814033  ...   1.2215734642393308   0.5003040960505633   \n",
       "\n",
       "                    c21                  c22                  c23  \\\n",
       "0  -0.15788606130945496   0.5471752066833696   -1.175534599007752   \n",
       "1    1.0530175682559997   1.1140801631298103  -0.1881269992115197   \n",
       "2    0.3661363760276953  -1.8637351572624115  -1.0041660206300473   \n",
       "3   -1.0533326576110094  -0.5312318198222811  -0.3680435785276729   \n",
       "4    1.1543028873688632  -0.6152189999831955   0.1736727589714408   \n",
       "\n",
       "                    c24                  c25                  c26  \\\n",
       "0   -0.9048604451867792    0.621564174236437    1.417309324236045   \n",
       "1  0.052099559439818574  -0.0693177821757523   0.8999714644899497   \n",
       "2   -0.8782056787987305   0.6158962046447305   1.1577789169250503   \n",
       "3    1.6352667467588007   0.7972001479731627   1.1578692738945455   \n",
       "4  -0.10933612765320183    -0.78662285871362  -0.3680493638564748   \n",
       "\n",
       "                   c27     label  \n",
       "0   0.4809566857112128     happy  \n",
       "1   0.5737228442997263  surprise  \n",
       "2   0.5900629110858302  surprise  \n",
       "3  0.13752933595038316  surprise  \n",
       "4  -1.3709914336810212     angry  \n",
       "\n",
       "[5 rows x 29 columns]"
      ]
     },
     "execution_count": 6,
     "metadata": {},
     "output_type": "execute_result"
    }
   ],
   "source": [
    "# Create dataframe from numpy arrays\n",
    "columns = [ 'c' + str(i) for i in range(28) ] + [ 'label' ]\n",
    "df = pd.DataFrame(data=data, columns=columns)\n",
    "df.head(5)"
   ]
  },
  {
   "cell_type": "code",
   "execution_count": 7,
   "metadata": {},
   "outputs": [
    {
     "name": "stdout",
     "output_type": "stream",
     "text": [
      "(2089, 28) (2089,)\n"
     ]
    }
   ],
   "source": [
    "# Create training and testing sets\n",
    "X = df.iloc[:,:-1]\n",
    "y = df['label']\n",
    "\n",
    "X_train, X_test, y_train, y_test = train_test_split(\n",
    "    X, y, test_size=0.25)\n",
    "print(X_train.shape, y_train.shape)"
   ]
  },
  {
   "cell_type": "code",
   "execution_count": 11,
   "metadata": {},
   "outputs": [],
   "source": [
    "# Define Support Vector Machine model and predict label\n",
    "svm = SVC(gamma='auto', probability=True)\n",
    "svm.fit(X, y)\n",
    "y_test_pred = svm.predict(X_test)"
   ]
  },
  {
   "cell_type": "code",
   "execution_count": 12,
   "metadata": {},
   "outputs": [],
   "source": [
    "# Get probability of prediction\n",
    "y_test_prob = svm.predict_proba(X_test)"
   ]
  },
  {
   "cell_type": "code",
   "execution_count": 14,
   "metadata": {},
   "outputs": [
    {
     "data": {
      "text/plain": [
       "0.994261119081779"
      ]
     },
     "execution_count": 14,
     "metadata": {},
     "output_type": "execute_result"
    }
   ],
   "source": [
    "# Get score of prediction\n",
    "svm.score(X_test, y_test)"
   ]
  },
  {
   "cell_type": "code",
   "execution_count": 17,
   "metadata": {},
   "outputs": [
    {
     "data": {
      "image/png": "[encoded data removed]",
      "text/plain": [
       "<Figure size 432x288 with 2 Axes>"
      ]
     },
     "metadata": {
      "needs_background": "light"
     },
     "output_type": "display_data"
    }
   ],
   "source": [
    "disp = plot_confusion_matrix(svm, X_test, y_test,\n",
    "                             cmap=plt.cm.Blues,\n",
    "                             xticks_rotation=45)"
   ]
  }
 ],
 "metadata": {
  "kernelspec": {
   "display_name": "Python 3",
   "language": "python",
   "name": "python3"
  },
  "language_info": {
   "codemirror_mode": {
    "name": "ipython",
    "version": 3
   },
   "file_extension": ".py",
   "mimetype": "text/x-python",
   "name": "python",
   "nbconvert_exporter": "python",
   "pygments_lexer": "ipython3",
   "version": "3.8.2"
  }
 },
 "nbformat": 4,
 "nbformat_minor": 4
}
