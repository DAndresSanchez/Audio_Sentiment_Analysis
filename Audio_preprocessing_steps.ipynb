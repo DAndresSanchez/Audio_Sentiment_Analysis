{
 "cells": [
  {
   "cell_type": "code",
   "execution_count": 3,
   "metadata": {},
   "outputs": [],
   "source": [
    "from scipy.io.wavfile import read, write\n",
    "import matplotlib.pyplot as plt\n",
    "import numpy as np\n",
    "import librosa"
   ]
  },
  {
   "cell_type": "code",
   "execution_count": 4,
   "metadata": {},
   "outputs": [],
   "source": [
    "filename = 'data/happy/happy02.wav'"
   ]
  },
  {
   "cell_type": "code",
   "execution_count": 5,
   "metadata": {},
   "outputs": [],
   "source": [
    "sr, signal = read(filename)"
   ]
  },
  {
   "cell_type": "code",
   "execution_count": 6,
   "metadata": {},
   "outputs": [],
   "source": [
    "# Convert to 8kHz\n",
    "sr_objective = 8000\n",
    "sr_ratio = int(sr/sr_objective)\n",
    "\n",
    "signal = signal[::sr_ratio,0]\n",
    "sr = sr_objective\n",
    "\n",
    "# Normalise\n",
    "signal = signal.astype(np.float32)\n",
    "signal = signal / np.abs(signal).max() / 2"
   ]
  },
  {
   "cell_type": "code",
   "execution_count": 7,
   "metadata": {},
   "outputs": [],
   "source": [
    "# calculate length and define segments\n",
    "\n",
    "length = len(signal)\n",
    "length_s = length/sr # length of segment in seconds\n",
    "\n",
    "short_term_length = 0.020 # s \n",
    "short_term_overlap = 0 # s\n",
    "\n",
    "medium_term_length = 1 # s \n",
    "medium_term_overlap = 0.020 # s"
   ]
  },
  {
   "cell_type": "code",
   "execution_count": 8,
   "metadata": {},
   "outputs": [],
   "source": [
    "# convert to samples per segment\n",
    "\n",
    "n_fft_st = int(length_s // (short_term_length - short_term_overlap))\n",
    "hop_length_st = n_fft_st # no overlap"
   ]
  },
  {
   "cell_type": "code",
   "execution_count": 9,
   "metadata": {},
   "outputs": [],
   "source": [
    "# calculate Energy\n",
    "def energy_calc(signal, segment_length):\n",
    "    energy = []\n",
    "    for i in range(int(len(signal)/segment_length)):\n",
    "        segment = signal[i*segment_length:(i+1)*segment_length]# try except error ...\n",
    "        energy.append(np.sum(np.square(segment)) / segment_length)\n",
    "        if energy[-1] < 0:\n",
    "            print(i)\n",
    "    return energy"
   ]
  },
  {
   "cell_type": "code",
   "execution_count": 10,
   "metadata": {},
   "outputs": [
    {
     "data": {
      "text/plain": [
       "(160,)"
      ]
     },
     "execution_count": 10,
     "metadata": {},
     "output_type": "execute_result"
    }
   ],
   "source": [
    "segment_length = n_fft_st\n",
    "energy = np.array(energy_calc(signal, n_fft_st))\n",
    "energy.shape"
   ]
  },
  {
   "cell_type": "markdown",
   "metadata": {},
   "source": [
    "### Short Term Analysis"
   ]
  },
  {
   "cell_type": "code",
   "execution_count": 11,
   "metadata": {},
   "outputs": [
    {
     "data": {
      "text/plain": [
       "(13, 160)"
      ]
     },
     "execution_count": 11,
     "metadata": {},
     "output_type": "execute_result"
    }
   ],
   "source": [
    "# Calculate MFCCs for short term\n",
    "mfcc_st = librosa.feature.mfcc(y=signal, sr=sr, n_fft=n_fft_st, n_mfcc=13, hop_length=hop_length_st)\n",
    "mfcc_st = mfcc_st[:,:len(energy)]\n",
    "mfcc_st.shape"
   ]
  },
  {
   "cell_type": "code",
   "execution_count": 12,
   "metadata": {},
   "outputs": [
    {
     "data": {
      "text/plain": [
       "(14, 160)"
      ]
     },
     "execution_count": 12,
     "metadata": {},
     "output_type": "execute_result"
    }
   ],
   "source": [
    "coefficients_st = np.vstack((mfcc_st, energy))\n",
    "coefficients_st.shape"
   ]
  },
  {
   "cell_type": "code",
   "execution_count": 13,
   "metadata": {},
   "outputs": [
    {
     "data": {
      "text/plain": [
       "array([[-8.07894165e+02, -8.11137451e+02, -8.06580505e+02, ...,\n",
       "        -6.87594055e+02, -5.13701904e+02, -6.27787354e+02],\n",
       "       [-5.44695473e+00, -6.19074440e+00,  2.85001493e+00, ...,\n",
       "         2.98954678e+01, -8.63910217e+01, -2.51684494e+01],\n",
       "       [ 5.04853821e+00,  5.11809015e+00, -3.50555801e+00, ...,\n",
       "         9.65695000e+00, -4.93669968e+01, -1.65936317e+01],\n",
       "       ...,\n",
       "       [ 5.32635736e+00,  4.23884821e+00,  5.74078846e+00, ...,\n",
       "        -7.54451990e+00,  2.69626212e+00, -7.83749485e+00],\n",
       "       [ 1.03735762e+01,  1.41846240e-01, -7.77473867e-01, ...,\n",
       "        -5.26080608e+00,  1.99924514e-01, -3.99134088e+00],\n",
       "       [ 2.85804729e-08,  3.34533884e-08,  2.38718143e-08, ...,\n",
       "         1.28669806e-04,  1.47798284e-05,  9.49315170e-07]])"
      ]
     },
     "execution_count": 13,
     "metadata": {},
     "output_type": "execute_result"
    }
   ],
   "source": [
    "coefficients_st"
   ]
  },
  {
   "cell_type": "markdown",
   "metadata": {},
   "source": [
    "### Medium Term Analysis"
   ]
  },
  {
   "cell_type": "code",
   "execution_count": 46,
   "metadata": {},
   "outputs": [],
   "source": [
    "# Calculation of segments length for medium term analysis\n",
    "n_segments_mt = int(length_s // (medium_term_length - medium_term_overlap))\n",
    "\n",
    "n_fft_mt = int(coefficients_st.shape[1] * medium_term_length / length_s)\n",
    "hop_length_mt = int(coefficients_st.shape[1] * (medium_term_length - medium_term_overlap) / length_s) "
   ]
  },
  {
   "cell_type": "code",
   "execution_count": 47,
   "metadata": {},
   "outputs": [
    {
     "data": {
      "text/plain": [
       "5"
      ]
     },
     "execution_count": 47,
     "metadata": {},
     "output_type": "execute_result"
    }
   ],
   "source": [
    "n_segments_mt"
   ]
  },
  {
   "cell_type": "code",
   "execution_count": 48,
   "metadata": {},
   "outputs": [
    {
     "data": {
      "text/plain": [
       "31"
      ]
     },
     "execution_count": 48,
     "metadata": {},
     "output_type": "execute_result"
    }
   ],
   "source": [
    "hop_length_mt"
   ]
  },
  {
   "cell_type": "code",
   "execution_count": 49,
   "metadata": {},
   "outputs": [
    {
     "data": {
      "text/plain": [
       "32"
      ]
     },
     "execution_count": 49,
     "metadata": {},
     "output_type": "execute_result"
    }
   ],
   "source": [
    "n_fft_mt"
   ]
  },
  {
   "cell_type": "code",
   "execution_count": 50,
   "metadata": {},
   "outputs": [
    {
     "data": {
      "text/plain": [
       "(5, 28)"
      ]
     },
     "execution_count": 50,
     "metadata": {},
     "output_type": "execute_result"
    }
   ],
   "source": [
    "# Calculation of parameters for medium term analysis\n",
    "for i in range(n_segments_mt):\n",
    "    coefficient_i = coefficients_st[:, i*hop_length_mt:i*hop_length_mt+n_fft_mt]\n",
    "    mean_i = np.mean(coefficient_i, axis=1)\n",
    "    std_i = np.std(coefficient_i, axis=1)\n",
    "    if i == 0:\n",
    "        parameters_mt = np.hstack((mean_i, std_i))\n",
    "    else:\n",
    "        parameters_mt = np.row_stack((parameters_mt, np.hstack((mean_i, std_i))))\n",
    "parameters_mt.shape"
   ]
  },
  {
   "cell_type": "code",
   "execution_count": 52,
   "metadata": {},
   "outputs": [
    {
     "data": {
      "text/plain": [
       "array([[-6.07647285e+02,  3.42703392e+01,  8.48582909e+00,\n",
       "         1.71751554e+01,  4.10098400e+00,  8.32038901e+00,\n",
       "        -7.64753586e+00, -5.26155654e+00, -3.49418551e+00,\n",
       "        -1.40180118e+01, -8.08093873e+00, -3.23192842e+00,\n",
       "        -1.33943588e+01,  3.77468249e-03,  2.20332172e+02,\n",
       "         3.76649446e+01,  2.89429097e+01,  2.75223010e+01,\n",
       "         1.07261201e+01,  1.72485251e+01,  1.06704773e+01,\n",
       "         1.06947324e+01,  9.48516939e+00,  1.64844621e+01,\n",
       "         1.12309209e+01,  8.50363708e+00,  1.82544107e+01,\n",
       "         5.65030241e-03],\n",
       "       [-3.71118052e+02,  3.45881971e+01,  2.11987227e+01,\n",
       "         5.45285952e+01,  1.34892709e+01, -5.20427376e-02,\n",
       "        -1.53967937e+01, -5.72083364e+00, -5.30284145e+00,\n",
       "        -3.30707633e+01, -1.20971675e+01,  3.01407081e+00,\n",
       "        -2.14355341e+01,  7.17405073e-03,  4.49109870e+01,\n",
       "         8.35935552e+01,  3.38770433e+01,  2.82181202e+01,\n",
       "         1.62886241e+01,  3.04074890e+01,  1.32405739e+01,\n",
       "         1.63316635e+01,  1.42495664e+01,  9.39242679e+00,\n",
       "         1.03104933e+01,  9.64713330e+00,  1.20266835e+01,\n",
       "         7.02477140e-03],\n",
       "       [-4.58469100e+02,  4.52242214e+01,  2.94986812e+01,\n",
       "         7.07057757e+01,  1.69455260e+00, -7.32065065e+00,\n",
       "        -1.24689320e+01, -1.23140170e+01, -3.00099161e-02,\n",
       "        -3.41146797e+01, -9.62474842e+00,  5.10876868e+00,\n",
       "        -1.81311429e+01,  1.29070963e-03,  4.98517957e+01,\n",
       "         7.12390170e+01,  3.19669878e+01,  2.02420073e+01,\n",
       "         1.89652711e+01,  2.10928775e+01,  1.69209043e+01,\n",
       "         1.89892654e+01,  1.73034558e+01,  8.01580448e+00,\n",
       "         1.59647295e+01,  9.58949619e+00,  1.49586247e+01,\n",
       "         1.26066459e-03],\n",
       "       [-5.57484732e+02,  5.42486182e+01,  1.75957273e+00,\n",
       "         2.81238558e+01,  4.51915478e+00,  3.58464941e-02,\n",
       "        -1.21013097e+01, -8.99759348e+00, -7.79805830e+00,\n",
       "        -1.80099902e+01, -1.05176225e+01,  6.81316940e-01,\n",
       "        -1.05352262e+01,  1.86712383e-03,  1.36756369e+02,\n",
       "         4.02931587e+01,  2.05635639e+01,  3.32436348e+01,\n",
       "         1.14337628e+01,  1.34548630e+01,  1.88476461e+01,\n",
       "         1.30006379e+01,  1.17730601e+01,  1.94542059e+01,\n",
       "         8.49778940e+00,  1.13198713e+01,  8.65630566e+00,\n",
       "         3.97086279e-03],\n",
       "       [-5.15430449e+02,  3.46769478e+01,  3.49690188e+01,\n",
       "         3.09572238e+01, -2.10998477e+00, -9.68300157e+00,\n",
       "        -1.39850347e+01, -1.32063120e+01, -1.77743030e+00,\n",
       "        -2.32104612e+01, -1.06842099e+01, -1.20739523e+00,\n",
       "        -3.07241571e+00,  2.58711885e-03,  1.21590113e+02,\n",
       "         8.96610633e+01,  3.45279890e+01,  2.96724347e+01,\n",
       "         2.17035302e+01,  2.55710519e+01,  1.50946316e+01,\n",
       "         1.57064082e+01,  1.52244390e+01,  1.82567558e+01,\n",
       "         1.38341553e+01,  1.10942017e+01,  1.08161185e+01,\n",
       "         6.00174570e-03]])"
      ]
     },
     "execution_count": 52,
     "metadata": {},
     "output_type": "execute_result"
    }
   ],
   "source": [
    "parameters_mt"
   ]
  },
  {
   "cell_type": "markdown",
   "metadata": {},
   "source": [
    "### Long Term Analysis"
   ]
  },
  {
   "cell_type": "code",
   "execution_count": 53,
   "metadata": {},
   "outputs": [
    {
     "data": {
      "text/plain": [
       "(28,)"
      ]
     },
     "execution_count": 53,
     "metadata": {},
     "output_type": "execute_result"
    }
   ],
   "source": [
    "# Calculation of parameters for long term analysis\n",
    "parameters_lt = np.mean(parameters_mt, axis=0)\n",
    "parameters_lt.shape"
   ]
  },
  {
   "cell_type": "code",
   "execution_count": 54,
   "metadata": {},
   "outputs": [
    {
     "data": {
      "text/plain": [
       "array([-5.02029923e+02,  4.06016647e+01,  1.91823649e+01,  4.02981212e+01,\n",
       "        4.33879550e+00, -1.73989189e+00, -1.23199212e+01, -9.10006254e+00,\n",
       "       -3.68050510e+00, -2.44847812e+01, -1.02009374e+01,  8.72966557e-01,\n",
       "       -1.33137355e+01,  3.33873711e-03,  1.14688287e+02,  6.44903478e+01,\n",
       "        2.99756987e+01,  2.77796996e+01,  1.58234617e+01,  2.15549613e+01,\n",
       "        1.49548466e+01,  1.49445415e+01,  1.36071381e+01,  1.43207310e+01,\n",
       "        1.19676177e+01,  1.00308679e+01,  1.29424286e+01,  4.78166938e-03])"
      ]
     },
     "execution_count": 54,
     "metadata": {},
     "output_type": "execute_result"
    }
   ],
   "source": [
    "parameters_lt"
   ]
  }
 ],
 "metadata": {
  "kernelspec": {
   "display_name": "Python 3",
   "language": "python",
   "name": "python3"
  },
  "language_info": {
   "codemirror_mode": {
    "name": "ipython",
    "version": 3
   },
   "file_extension": ".py",
   "mimetype": "text/x-python",
   "name": "python",
   "nbconvert_exporter": "python",
   "pygments_lexer": "ipython3",
   "version": "3.8.2"
  }
 },
 "nbformat": 4,
 "nbformat_minor": 4
}
