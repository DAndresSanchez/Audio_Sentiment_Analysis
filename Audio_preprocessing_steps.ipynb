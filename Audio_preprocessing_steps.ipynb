{
 "cells": [
  {
   "cell_type": "markdown",
   "metadata": {},
   "source": [
    "# Preprocessing of audio files for sentiment analysis"
   ]
  },
  {
   "cell_type": "code",
   "execution_count": 1,
   "metadata": {},
   "outputs": [],
   "source": [
    "from scipy.io.wavfile import read, write\n",
    "import matplotlib.pyplot as plt\n",
    "import numpy as np\n",
    "import librosa"
   ]
  },
  {
   "cell_type": "code",
   "execution_count": 12,
   "metadata": {},
   "outputs": [],
   "source": [
    "filename = 'data/happy/happy01.wav'"
   ]
  },
  {
   "cell_type": "code",
   "execution_count": 13,
   "metadata": {},
   "outputs": [],
   "source": [
    "sr, signal = read(filename)"
   ]
  },
  {
   "cell_type": "code",
   "execution_count": 14,
   "metadata": {},
   "outputs": [],
   "source": [
    "# Convert to 8kHz\n",
    "sr_objective = 8000\n",
    "sr_ratio = int(sr/sr_objective)\n",
    "\n",
    "try:\n",
    "    signal = signal[::sr_ratio,0]\n",
    "except IndexError:\n",
    "    signal = signal[::sr_ratio]\n",
    "    \n",
    "sr = sr_objective    \n",
    "\n",
    "# Normalise\n",
    "signal = signal.astype(np.float32)\n",
    "signal = signal / np.abs(signal).max() / 2"
   ]
  },
  {
   "cell_type": "code",
   "execution_count": 15,
   "metadata": {},
   "outputs": [],
   "source": [
    "# calculate length and define segments\n",
    "\n",
    "length = len(signal)\n",
    "length_s = length/sr # length of segment in seconds\n",
    "\n",
    "short_term_length = 0.020 # s \n",
    "short_term_overlap = 0 # s\n",
    "\n",
    "medium_term_length = 1 # s \n",
    "medium_term_overlap = 0.020 # s"
   ]
  },
  {
   "cell_type": "code",
   "execution_count": 16,
   "metadata": {},
   "outputs": [],
   "source": [
    "# convert to samples per segment\n",
    "\n",
    "n_fft_st = int(length_s // (short_term_length - short_term_overlap))\n",
    "hop_length_st = n_fft_st # no overlap"
   ]
  },
  {
   "cell_type": "code",
   "execution_count": 17,
   "metadata": {},
   "outputs": [],
   "source": [
    "# calculate Energy\n",
    "def energy_calc(signal, segment_length):\n",
    "    energy = []\n",
    "    for i in range(int(len(signal)/segment_length)):\n",
    "        segment = signal[i*segment_length:(i+1)*segment_length]# try except error ...\n",
    "        energy.append(np.sum(np.square(segment)) / segment_length)\n",
    "        if energy[-1] < 0:\n",
    "            print(i)\n",
    "    return energy"
   ]
  },
  {
   "cell_type": "code",
   "execution_count": 18,
   "metadata": {},
   "outputs": [
    {
     "data": {
      "text/plain": [
       "(160,)"
      ]
     },
     "execution_count": 18,
     "metadata": {},
     "output_type": "execute_result"
    }
   ],
   "source": [
    "segment_length = n_fft_st\n",
    "energy = np.array(energy_calc(signal, n_fft_st))\n",
    "energy.shape"
   ]
  },
  {
   "cell_type": "markdown",
   "metadata": {},
   "source": [
    "### Short Term Analysis"
   ]
  },
  {
   "cell_type": "code",
   "execution_count": 19,
   "metadata": {},
   "outputs": [
    {
     "name": "stderr",
     "output_type": "stream",
     "text": [
      "/home/daansan/David/Sentiment_Analysis/venv/lib/python3.8/site-packages/librosa/filters.py:238: UserWarning: Empty filters detected in mel frequency basis. Some channels will produce empty responses. Try increasing your sampling rate (and fmax) or reducing n_mels.\n",
      "  warnings.warn(\n"
     ]
    },
    {
     "data": {
      "text/plain": [
       "(13, 160)"
      ]
     },
     "execution_count": 19,
     "metadata": {},
     "output_type": "execute_result"
    }
   ],
   "source": [
    "# Calculate MFCCs for short term\n",
    "mfcc_st = librosa.feature.mfcc(y=signal, sr=sr, n_fft=n_fft_st, n_mfcc=13, hop_length=hop_length_st)\n",
    "mfcc_st = mfcc_st[:,:len(energy)]\n",
    "mfcc_st.shape"
   ]
  },
  {
   "cell_type": "code",
   "execution_count": 20,
   "metadata": {},
   "outputs": [
    {
     "data": {
      "text/plain": [
       "(14, 160)"
      ]
     },
     "execution_count": 20,
     "metadata": {},
     "output_type": "execute_result"
    }
   ],
   "source": [
    "coefficients_st = np.vstack((mfcc_st, energy))\n",
    "coefficients_st.shape"
   ]
  },
  {
   "cell_type": "code",
   "execution_count": 21,
   "metadata": {},
   "outputs": [
    {
     "data": {
      "text/plain": [
       "array([[-8.29161560e+02, -8.30007812e+02, -8.29951111e+02, ...,\n",
       "        -7.57773987e+02, -7.51710754e+02, -7.55843506e+02],\n",
       "       [ 9.48702717e+00,  8.27597523e+00,  1.56528730e+01, ...,\n",
       "         3.49834099e+01,  3.51847916e+01,  2.33186264e+01],\n",
       "       [-2.70762205e+00, -9.05908203e+00,  2.67609739e+00, ...,\n",
       "        -1.54895535e+01, -6.56451511e+00,  1.81125200e+00],\n",
       "       ...,\n",
       "       [ 2.92121696e+00,  8.31076813e+00,  3.91079521e+00, ...,\n",
       "        -5.86307144e+00, -5.05378151e+00, -6.24084997e+00],\n",
       "       [ 4.52248764e+00,  4.69734955e+00,  3.31858993e-01, ...,\n",
       "         1.00627918e+01, -1.99341130e+00,  2.74989128e-01],\n",
       "       [ 1.42190369e-08,  1.42190369e-08,  1.45572356e-08, ...,\n",
       "         2.58677679e-07,  1.94478791e-07,  3.69395023e-06]])"
      ]
     },
     "execution_count": 21,
     "metadata": {},
     "output_type": "execute_result"
    }
   ],
   "source": [
    "coefficients_st"
   ]
  },
  {
   "cell_type": "markdown",
   "metadata": {},
   "source": [
    "### Medium Term Analysis"
   ]
  },
  {
   "cell_type": "code",
   "execution_count": 22,
   "metadata": {},
   "outputs": [],
   "source": [
    "# Calculation of segments length for medium term analysis\n",
    "n_segments_mt = int(length_s // (medium_term_length - medium_term_overlap))\n",
    "\n",
    "n_fft_mt = int(coefficients_st.shape[1] * medium_term_length / length_s)\n",
    "hop_length_mt = int(coefficients_st.shape[1] * (medium_term_length - medium_term_overlap) / length_s) "
   ]
  },
  {
   "cell_type": "code",
   "execution_count": 23,
   "metadata": {},
   "outputs": [
    {
     "data": {
      "text/plain": [
       "4"
      ]
     },
     "execution_count": 23,
     "metadata": {},
     "output_type": "execute_result"
    }
   ],
   "source": [
    "n_segments_mt"
   ]
  },
  {
   "cell_type": "code",
   "execution_count": 24,
   "metadata": {},
   "outputs": [
    {
     "data": {
      "text/plain": [
       "37"
      ]
     },
     "execution_count": 24,
     "metadata": {},
     "output_type": "execute_result"
    }
   ],
   "source": [
    "hop_length_mt"
   ]
  },
  {
   "cell_type": "code",
   "execution_count": 25,
   "metadata": {},
   "outputs": [
    {
     "data": {
      "text/plain": [
       "38"
      ]
     },
     "execution_count": 25,
     "metadata": {},
     "output_type": "execute_result"
    }
   ],
   "source": [
    "n_fft_mt"
   ]
  },
  {
   "cell_type": "code",
   "execution_count": 26,
   "metadata": {},
   "outputs": [
    {
     "data": {
      "text/plain": [
       "(4, 28)"
      ]
     },
     "execution_count": 26,
     "metadata": {},
     "output_type": "execute_result"
    }
   ],
   "source": [
    "# Calculation of parameters for medium term analysis\n",
    "for i in range(n_segments_mt):\n",
    "    coefficient_i = coefficients_st[:, i*hop_length_mt:i*hop_length_mt+n_fft_mt]\n",
    "    mean_i = np.mean(coefficient_i, axis=1)\n",
    "    std_i = np.std(coefficient_i, axis=1)\n",
    "    if i == 0:\n",
    "        parameters_mt = np.hstack((mean_i, std_i))\n",
    "    else:\n",
    "        parameters_mt = np.row_stack((parameters_mt, np.hstack((mean_i, std_i))))\n",
    "parameters_mt.shape"
   ]
  },
  {
   "cell_type": "code",
   "execution_count": 27,
   "metadata": {},
   "outputs": [
    {
     "data": {
      "text/plain": [
       "array([[-6.90725827e+02,  2.86621210e+01,  8.96717091e+00,\n",
       "         4.48514923e+00, -5.35701460e+00, -5.16059302e+00,\n",
       "        -3.21534335e+00, -4.71049260e+00, -7.54248108e+00,\n",
       "        -6.55234593e+00, -4.23017829e+00, -5.14766665e+00,\n",
       "        -3.60241607e+00,  3.56402518e-03,  1.77122755e+02,\n",
       "         3.31171986e+01,  2.47380897e+01,  2.78873502e+01,\n",
       "         1.26878973e+01,  1.60882072e+01,  9.73016763e+00,\n",
       "         1.26431504e+01,  1.15063497e+01,  7.96397477e+00,\n",
       "         9.33555395e+00,  7.20955447e+00,  9.33235789e+00,\n",
       "         6.68123757e-03],\n",
       "       [-4.07694145e+02,  4.60009475e+01,  1.92441713e+01,\n",
       "         2.16733828e+01, -4.71479425e+00, -2.08422126e+01,\n",
       "        -1.05692202e+01, -8.96436686e+00, -1.26417941e+01,\n",
       "        -2.51157888e+01, -5.24150198e+00, -1.25265109e+01,\n",
       "        -7.67983967e+00,  7.09392061e-03,  9.47048298e+01,\n",
       "         5.32814625e+01,  2.62215507e+01,  2.85479604e+01,\n",
       "         1.45921866e+01,  1.73856190e+01,  1.36901218e+01,\n",
       "         1.44050707e+01,  1.27844175e+01,  1.43282883e+01,\n",
       "         1.44245161e+01,  1.35379124e+01,  1.09131410e+01,\n",
       "         6.46488459e-03],\n",
       "       [-5.59143360e+02,  6.86672221e+01,  7.06823523e+00,\n",
       "         1.25661429e+01, -6.92216011e+00, -1.44829245e+01,\n",
       "        -1.40420059e+01, -3.31574012e+00, -8.46316462e+00,\n",
       "        -1.39733809e+01, -4.42279097e+00,  7.22480064e-01,\n",
       "        -7.36020569e+00,  4.15178549e-03,  1.65170501e+02,\n",
       "         4.15297564e+01,  2.17610851e+01,  1.98683743e+01,\n",
       "         1.26155471e+01,  1.96201855e+01,  1.68036231e+01,\n",
       "         1.31069324e+01,  9.36717164e+00,  1.02525853e+01,\n",
       "         8.38981116e+00,  1.14842171e+01,  9.28998478e+00,\n",
       "         7.04516353e-03],\n",
       "       [-5.97051808e+02,  6.49400017e+01,  3.11922105e-01,\n",
       "        -8.95816921e+00, -4.01506744e+00, -4.22526030e+00,\n",
       "        -1.10014814e+01, -6.38298051e+00, -7.79702811e+00,\n",
       "        -7.77346071e+00, -7.95674257e+00, -2.84750897e+00,\n",
       "        -1.18826196e+00,  8.92995359e-04,  1.41232787e+02,\n",
       "         7.01968960e+01,  2.77957799e+01,  1.81676293e+01,\n",
       "         1.51462815e+01,  1.39370895e+01,  1.65951605e+01,\n",
       "         1.24735544e+01,  1.35830434e+01,  9.72417181e+00,\n",
       "         1.06166584e+01,  8.39598436e+00,  9.46102344e+00,\n",
       "         1.17903161e-03]])"
      ]
     },
     "execution_count": 27,
     "metadata": {},
     "output_type": "execute_result"
    }
   ],
   "source": [
    "parameters_mt"
   ]
  },
  {
   "cell_type": "markdown",
   "metadata": {},
   "source": [
    "### Long Term Analysis"
   ]
  },
  {
   "cell_type": "code",
   "execution_count": 28,
   "metadata": {},
   "outputs": [
    {
     "data": {
      "text/plain": [
       "(28,)"
      ]
     },
     "execution_count": 28,
     "metadata": {},
     "output_type": "execute_result"
    }
   ],
   "source": [
    "# Calculation of parameters for long term analysis\n",
    "if n_segments_mt > 1:\n",
    "    parameters_lt = np.mean(parameters_mt, axis=0)\n",
    "else: \n",
    "    parameters_lt = parameters_mt\n",
    "parameters_lt.shape"
   ]
  },
  {
   "cell_type": "code",
   "execution_count": 29,
   "metadata": {},
   "outputs": [
    {
     "data": {
      "text/plain": [
       "array([-5.63653785e+02,  5.20675731e+01,  8.89787488e+00,  7.44162645e+00,\n",
       "       -5.25225910e+00, -1.11777476e+01, -9.70701272e+00, -5.84339502e+00,\n",
       "       -9.11111698e+00, -1.33537441e+01, -5.46280345e+00, -4.94980163e+00,\n",
       "       -4.95768085e+00,  3.92568166e-03,  1.44557718e+02,  4.95313284e+01,\n",
       "        2.51291264e+01,  2.36178286e+01,  1.37604781e+01,  1.67577753e+01,\n",
       "        1.42047683e+01,  1.31571770e+01,  1.18102456e+01,  1.05672550e+01,\n",
       "        1.06916349e+01,  1.01569171e+01,  9.74912678e+00,  5.34257932e-03])"
      ]
     },
     "execution_count": 29,
     "metadata": {},
     "output_type": "execute_result"
    }
   ],
   "source": [
    "parameters_lt"
   ]
  }
 ],
 "metadata": {
  "kernelspec": {
   "display_name": "Python 3",
   "language": "python",
   "name": "python3"
  },
  "language_info": {
   "codemirror_mode": {
    "name": "ipython",
    "version": 3
   },
   "file_extension": ".py",
   "mimetype": "text/x-python",
   "name": "python",
   "nbconvert_exporter": "python",
   "pygments_lexer": "ipython3",
   "version": "3.8.2"
  }
 },
 "nbformat": 4,
 "nbformat_minor": 4
}
