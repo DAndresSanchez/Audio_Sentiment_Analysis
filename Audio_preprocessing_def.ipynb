{
 "cells": [
  {
   "cell_type": "code",
   "execution_count": 187,
   "metadata": {},
   "outputs": [],
   "source": [
    "from scipy.io.wavfile import read, write\n",
    "import matplotlib.pyplot as plt\n",
    "import numpy as np\n",
    "import librosa\n",
    "import os\n",
    "\n",
    "# calculate Energy\n",
    "def energy_calc(signal, segment_length):\n",
    "    energy = []\n",
    "    for i in range(int(len(signal)/segment_length)):\n",
    "        segment = signal[i*segment_length:(i+1)*segment_length]# try except error ...\n",
    "        energy.append(np.sum(np.square(segment)) / segment_length)\n",
    "        if energy[-1] < 0:\n",
    "            print(i)\n",
    "    return energy\n",
    "\n",
    "\n",
    "def preprocess_signal(filename, short_term_length=0.020, short_term_overlap=0,\\\n",
    "                      medium_term_length=1, medium_term_overlap=0.020):\n",
    "    \n",
    "    # Import audio signal\n",
    "    sr, signal = read(filename)\n",
    "    \n",
    "    # Convert to 8kHz\n",
    "    sr_objective = 8000\n",
    "    sr_ratio = int(sr/sr_objective)\n",
    "\n",
    "    signal = signal[::sr_ratio,0]\n",
    "    sr = sr_objective\n",
    "\n",
    "    # Normalise\n",
    "    signal = signal.astype(np.float32)\n",
    "    signal = signal / np.abs(signal).max() / 2\n",
    "    \n",
    "    # Calculate length and define segments\n",
    "    length = len(signal)\n",
    "    length_s = length/sr # length of segment in seconds\n",
    "    short_term_length = 0.020 # s \n",
    "    short_term_overlap = 0 # s\n",
    "    medium_term_length = 1 # s \n",
    "    medium_term_overlap = 0.020 # s\n",
    "\n",
    "    # Convert to samples per segment\n",
    "    n_fft_st = int(length_s // (short_term_length - short_term_overlap))\n",
    "    hop_length_st = n_fft_st # no overlap\n",
    "    segment_length = n_fft_st\n",
    "    energy = np.array(energy_calc(signal, n_fft_st))\n",
    "    \n",
    "    # SHORT TERM ANALYSIS\n",
    "    # Calculate MFCCs for short term\n",
    "    mfcc_st = librosa.feature.mfcc(y=signal, sr=sr, n_fft=n_fft_st, n_mfcc=13, hop_length=hop_length_st)\n",
    "    mfcc_st = mfcc_st[:,:len(energy)]\n",
    "    coefficients_st = np.vstack((mfcc_st, energy))\n",
    "\n",
    "    \n",
    "    # MEDIUM TERM ANALYSIS\n",
    "    # Calculation of segments length for medium term analysis\n",
    "    n_segments_mt = int(length_s // (medium_term_length - medium_term_overlap))\n",
    "    n_fft_mt = int(coefficients_st.shape[1] * medium_term_length / length_s)\n",
    "    hop_length_mt = int(coefficients_st.shape[1] * (medium_term_length - medium_term_overlap) / length_s)     \n",
    "\n",
    "    # Calculation of parameters for medium term analysis\n",
    "    for i in range(n_segments_mt):\n",
    "        coefficient_i = coefficients_st[:, i*hop_length_mt:i*hop_length_mt+n_fft_mt]\n",
    "        mean_i = np.mean(coefficient_i, axis=1)\n",
    "        std_i = np.std(coefficient_i, axis=1)\n",
    "        if i == 0:\n",
    "            parameters_mt = np.hstack((mean_i, std_i))\n",
    "        else:\n",
    "            parameters_mt = np.row_stack((parameters_mt, np.hstack((mean_i, std_i))))\n",
    "\n",
    "    # LONG TERM ANALYSIS \n",
    "    # Calculation of parameters for long term analysis\n",
    "    parameters_lt = np.mean(parameters_mt, axis=0)\n",
    "\n",
    "    return parameters_lt\n",
    "\n",
    "def get_label(filename):\n",
    "    label = filename.split(\"/\")[-2]\n",
    "    return label\n",
    "\n",
    "def add_label(filename):\n",
    "    coefficients = preprocess_signal(filename)\n",
    "    label = np.array(get_label(filename))\n",
    "    return np.hstack((coefficients, label))\n",
    "\n"
   ]
  },
  {
   "cell_type": "code",
   "execution_count": 188,
   "metadata": {},
   "outputs": [
    {
     "data": {
      "text/plain": [
       "array([-5.63653785e+02,  5.20675731e+01,  8.89787488e+00,  7.44162645e+00,\n",
       "       -5.25225910e+00, -1.11777476e+01, -9.70701272e+00, -5.84339502e+00,\n",
       "       -9.11111698e+00, -1.33537441e+01, -5.46280345e+00, -4.94980163e+00,\n",
       "       -4.95768085e+00,  3.92568166e-03,  1.44557718e+02,  4.95313284e+01,\n",
       "        2.51291264e+01,  2.36178286e+01,  1.37604781e+01,  1.67577753e+01,\n",
       "        1.42047683e+01,  1.31571770e+01,  1.18102456e+01,  1.05672550e+01,\n",
       "        1.06916349e+01,  1.01569171e+01,  9.74912678e+00,  5.34257932e-03])"
      ]
     },
     "execution_count": 188,
     "metadata": {},
     "output_type": "execute_result"
    }
   ],
   "source": [
    "filename = 'data/happy/happy01.wav'\n",
    "preprocess_signal(filename)"
   ]
  },
  {
   "cell_type": "code",
   "execution_count": 191,
   "metadata": {},
   "outputs": [
    {
     "data": {
      "text/plain": [
       "array(['-563.6537849024722', '52.06757308934864', '8.89787487724894',\n",
       "       '7.441626449948863', '-5.252259098777646', '-11.177747606446868',\n",
       "       '-9.707012723151006', '-5.843395023165565', '-9.111116984957143',\n",
       "       '-13.353744100583226', '-5.462803449873862', '-4.949801625978005',\n",
       "       '-4.957680847495794', '0.003925681660364937', '144.55771813941365',\n",
       "       '49.531328384412205', '25.129126350096566', '23.617828558393263',\n",
       "       '13.76047811261888', '16.757775283670767', '14.204768263856876',\n",
       "       '13.157176977638823', '11.810245560730635', '10.567255048223094',\n",
       "       '10.691634904790398', '10.156917096468524', '9.749126782940861',\n",
       "       '0.0053425793245134075', 'happy'], dtype='<U32')"
      ]
     },
     "execution_count": 191,
     "metadata": {},
     "output_type": "execute_result"
    }
   ],
   "source": [
    "add_label(filename)"
   ]
  },
  {
   "cell_type": "code",
   "execution_count": 192,
   "metadata": {},
   "outputs": [],
   "source": [
    "path = 'data'\n",
    "data = np.empty((29, 0))\n",
    "for i, (dirpath, dirnames, filenames) in enumerate(os.walk(path)):\n",
    "\n",
    "        # ensure we're processing a genre sub-folder level\n",
    "        if dirpath is not path:\n",
    "            for file in filenames:\n",
    "                data_file = add_label(os.path.join(dirpath, file))\n",
    "                data = np.append(data, np.expand_dims(data_file, axis=1), axis=1)\n",
    "data = data.T\n",
    "np.savez('Sentiment_analysis_data', inputs=data[:,:28], targets=data[:,-1])"
   ]
  },
  {
   "cell_type": "markdown",
   "metadata": {},
   "source": [
    "## Neural Network"
   ]
  },
  {
   "cell_type": "code",
   "execution_count": 193,
   "metadata": {},
   "outputs": [],
   "source": [
    "import tensorflow as tf\n",
    "from sklearn import preprocessing"
   ]
  },
  {
   "cell_type": "code",
   "execution_count": 194,
   "metadata": {},
   "outputs": [],
   "source": [
    "npz = np.load('Sentiment_analysis_data.npz')"
   ]
  },
  {
   "cell_type": "code",
   "execution_count": 195,
   "metadata": {},
   "outputs": [],
   "source": [
    "x = npz['inputs']\n",
    "y = npz['targets']"
   ]
  },
  {
   "cell_type": "code",
   "execution_count": 196,
   "metadata": {},
   "outputs": [],
   "source": [
    "n = x.shape[0]"
   ]
  },
  {
   "cell_type": "code",
   "execution_count": 197,
   "metadata": {},
   "outputs": [],
   "source": [
    "# Standarise data\n",
    "scaled_x = preprocessing.scale(x)"
   ]
  },
  {
   "cell_type": "code",
   "execution_count": 198,
   "metadata": {},
   "outputs": [],
   "source": [
    "# Shuffle data\n",
    "shuffled_indices = np.arange(n)\n",
    "np.random.shuffle(shuffled_indices)\n",
    "\n",
    "shuffled_x = scaled_x[shuffled_indices]\n",
    "shuffled_y = y[shuffled_indices]"
   ]
  },
  {
   "cell_type": "code",
   "execution_count": 199,
   "metadata": {},
   "outputs": [],
   "source": [
    "labels_y, onehot_y = np.unique(shuffled_y, return_inverse=True)"
   ]
  },
  {
   "cell_type": "code",
   "execution_count": 200,
   "metadata": {},
   "outputs": [
    {
     "data": {
      "text/plain": [
       "(array(['sad', 'happy', 'happy', 'sad'], dtype='<U32'),\n",
       " array(['happy', 'sad'], dtype='<U32'),\n",
       " array([1, 0, 0, 1]))"
      ]
     },
     "execution_count": 200,
     "metadata": {},
     "output_type": "execute_result"
    }
   ],
   "source": [
    "shuffled_y, labels_y, onehot_y"
   ]
  },
  {
   "cell_type": "code",
   "execution_count": 201,
   "metadata": {},
   "outputs": [
    {
     "data": {
      "text/plain": [
       "array([1, 0, 0, 1])"
      ]
     },
     "execution_count": 201,
     "metadata": {},
     "output_type": "execute_result"
    }
   ],
   "source": [
    "n_classes = labels_y.shape[0]\n",
    "targets = onehot_y\n",
    "# onehot_y = np.eye(n_classes)[targets]\n",
    "onehot_y"
   ]
  },
  {
   "cell_type": "code",
   "execution_count": 202,
   "metadata": {},
   "outputs": [],
   "source": [
    "ratio = 0.75\n",
    "\n",
    "n_train = int(n*0.75)\n",
    "\n",
    "x_train = shuffled_x[:n_train]\n",
    "y_train = onehot_y[:n_train]\n",
    "\n",
    "x_test = shuffled_x[n_train:]\n",
    "y_test = onehot_y[n_train:]"
   ]
  },
  {
   "cell_type": "code",
   "execution_count": 203,
   "metadata": {},
   "outputs": [],
   "source": [
    "hidden_layer_1_size = 50\n",
    "hidden_layer_2_size = 50\n",
    "output_size = 2\n",
    "\n",
    "model = tf.keras.Sequential([\n",
    "#     tf.keras.layers.Flatten(input_shape=(x_test.shape[0], x_test.shape[1])),\n",
    "    tf.keras.layers.Dense(hidden_layer_1_size, activation='relu'),\n",
    "    tf.keras.layers.Dense(hidden_layer_1_size, activation='relu'),\n",
    "    tf.keras.layers.Dense(output_size, activation='softmax')\n",
    "])\n",
    "\n",
    "model.compile(\n",
    "    optimizer='adam',\n",
    "    loss='sparse_categorical_crossentropy',\n",
    "    metrics=['accuracy']\n",
    ")"
   ]
  },
  {
   "cell_type": "code",
   "execution_count": 204,
   "metadata": {},
   "outputs": [
    {
     "data": {
      "text/plain": [
       "((3, 28), (3,))"
      ]
     },
     "execution_count": 204,
     "metadata": {},
     "output_type": "execute_result"
    }
   ],
   "source": [
    "x_train.shape, y_train.shape"
   ]
  },
  {
   "cell_type": "code",
   "execution_count": 205,
   "metadata": {},
   "outputs": [
    {
     "name": "stdout",
     "output_type": "stream",
     "text": [
      "Epoch 1/10\n",
      "3/3 - 0s - loss: 0.6896 - accuracy: 0.6667\n",
      "Epoch 2/10\n",
      "3/3 - 0s - loss: 0.5380 - accuracy: 0.6667\n",
      "Epoch 3/10\n",
      "3/3 - 0s - loss: 0.4172 - accuracy: 0.6667\n",
      "Epoch 4/10\n",
      "3/3 - 0s - loss: 0.3202 - accuracy: 1.0000\n",
      "Epoch 5/10\n",
      "3/3 - 0s - loss: 0.2402 - accuracy: 1.0000\n",
      "Epoch 6/10\n",
      "3/3 - 0s - loss: 0.1976 - accuracy: 1.0000\n",
      "Epoch 7/10\n",
      "3/3 - 0s - loss: 0.1461 - accuracy: 1.0000\n",
      "Epoch 8/10\n",
      "3/3 - 0s - loss: 0.1223 - accuracy: 1.0000\n",
      "Epoch 9/10\n",
      "3/3 - 0s - loss: 0.0969 - accuracy: 1.0000\n",
      "Epoch 10/10\n",
      "3/3 - 0s - loss: 0.0742 - accuracy: 1.0000\n"
     ]
    },
    {
     "data": {
      "text/plain": [
       "<tensorflow.python.keras.callbacks.History at 0x7f7f8c722550>"
      ]
     },
     "execution_count": 205,
     "metadata": {},
     "output_type": "execute_result"
    }
   ],
   "source": [
    "batch_size = 1\n",
    "max_epochs = 10\n",
    "\n",
    "model.fit(x_train,\n",
    "          y_train,\n",
    "          batch_size=batch_size,\n",
    "          epochs=max_epochs,\n",
    "          verbose=2\n",
    "          )"
   ]
  },
  {
   "cell_type": "code",
   "execution_count": 206,
   "metadata": {},
   "outputs": [
    {
     "name": "stdout",
     "output_type": "stream",
     "text": [
      "1/1 [==============================] - 0s 11ms/step - loss: 0.9552 - accuracy: 0.0000e+00\n"
     ]
    }
   ],
   "source": [
    "test_loss, test_accuracy = model.evaluate(x_test, y_test)"
   ]
  },
  {
   "cell_type": "code",
   "execution_count": 207,
   "metadata": {},
   "outputs": [
    {
     "name": "stdout",
     "output_type": "stream",
     "text": [
      "\n",
      "Test loss: 0.96. Test accuracy: 0.00%\n"
     ]
    }
   ],
   "source": [
    "print('\\nTest loss: {0:.2f}. Test accuracy: {1:.2f}%'.format(test_loss, test_accuracy*100.))"
   ]
  },
  {
   "cell_type": "code",
   "execution_count": null,
   "metadata": {},
   "outputs": [],
   "source": []
  },
  {
   "cell_type": "code",
   "execution_count": null,
   "metadata": {},
   "outputs": [],
   "source": []
  },
  {
   "cell_type": "code",
   "execution_count": null,
   "metadata": {},
   "outputs": [],
   "source": []
  },
  {
   "cell_type": "code",
   "execution_count": null,
   "metadata": {},
   "outputs": [],
   "source": []
  }
 ],
 "metadata": {
  "kernelspec": {
   "display_name": "Python 3",
   "language": "python",
   "name": "python3"
  },
  "language_info": {
   "codemirror_mode": {
    "name": "ipython",
    "version": 3
   },
   "file_extension": ".py",
   "mimetype": "text/x-python",
   "name": "python",
   "nbconvert_exporter": "python",
   "pygments_lexer": "ipython3",
   "version": "3.8.2"
  }
 },
 "nbformat": 4,
 "nbformat_minor": 4
}
