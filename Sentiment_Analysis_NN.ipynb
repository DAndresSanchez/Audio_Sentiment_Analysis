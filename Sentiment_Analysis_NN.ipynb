{
 "cells": [
  {
   "cell_type": "markdown",
   "metadata": {},
   "source": [
    "# Neural Network Classifier for Sentiment Analysis of Conversations"
   ]
  },
  {
   "cell_type": "code",
   "execution_count": 1,
   "metadata": {},
   "outputs": [],
   "source": [
    "from scipy.io.wavfile import read, write\n",
    "import matplotlib.pyplot as plt\n",
    "import numpy as np\n",
    "import librosa\n",
    "import os\n",
    "import tensorflow as tf\n",
    "from sklearn import preprocessing\n",
    "from Audio_Preprocess import *"
   ]
  },
  {
   "cell_type": "code",
   "execution_count": 2,
   "metadata": {},
   "outputs": [],
   "source": [
    "# Load data\n",
    "npz = np.load('Sentiment_analysis_data.npz')\n",
    "x = npz['inputs']\n",
    "y = npz['targets']"
   ]
  },
  {
   "cell_type": "code",
   "execution_count": 3,
   "metadata": {},
   "outputs": [],
   "source": [
    "# Standarise data\n",
    "scaled_x = preprocessing.scale(x)"
   ]
  },
  {
   "cell_type": "code",
   "execution_count": 34,
   "metadata": {},
   "outputs": [],
   "source": [
    "# Shuffle data\n",
    "n = x.shape[0]\n",
    "shuffled_indices = np.arange(n)\n",
    "np.random.shuffle(shuffled_indices)\n",
    "\n",
    "shuffled_x = scaled_x[shuffled_indices]\n",
    "shuffled_y = y[shuffled_indices]"
   ]
  },
  {
   "cell_type": "code",
   "execution_count": 35,
   "metadata": {},
   "outputs": [],
   "source": [
    "# One hot enconding for labels\n",
    "labels_y, onehot_y = np.unique(shuffled_y, return_inverse=True)\n",
    "# shuffled_y, labels_y, onehot_y"
   ]
  },
  {
   "cell_type": "code",
   "execution_count": 36,
   "metadata": {},
   "outputs": [
    {
     "data": {
      "text/plain": [
       "array([4, 3, 3, ..., 4, 1, 4])"
      ]
     },
     "execution_count": 36,
     "metadata": {},
     "output_type": "execute_result"
    }
   ],
   "source": [
    "onehot_y"
   ]
  },
  {
   "cell_type": "code",
   "execution_count": 37,
   "metadata": {},
   "outputs": [],
   "source": [
    "# Generate training and testing sets\n",
    "\n",
    "ratio = 0.75\n",
    "\n",
    "n_train = int(n*0.75)\n",
    "\n",
    "x_train = shuffled_x[:n_train]\n",
    "y_train = onehot_y[:n_train]\n",
    "\n",
    "x_test = shuffled_x[n_train:]\n",
    "y_test = onehot_y[n_train:]"
   ]
  },
  {
   "cell_type": "code",
   "execution_count": 38,
   "metadata": {},
   "outputs": [],
   "source": [
    "# Generate training and testing sets\n",
    "\n",
    "ratios = [0.8, 0.1, 0.1]\n",
    "\n",
    "n_train = int(n*ratios[0])\n",
    "n_test = int(n*ratios[1])\n",
    "\n",
    "x_train = shuffled_x[:n_train]\n",
    "y_train = onehot_y[:n_train]\n",
    "\n",
    "x_test = shuffled_x[n_train:n_train+n_test]\n",
    "y_test = onehot_y[n_train:n_train+n_test]\n",
    "\n",
    "x_val = shuffled_x[n_train+n_test:]\n",
    "y_val = onehot_y[n_train+n_test:]"
   ]
  },
  {
   "cell_type": "code",
   "execution_count": 39,
   "metadata": {},
   "outputs": [],
   "source": [
    "# Create NN model\n",
    "\n",
    "hidden_layer_1_size = 50\n",
    "hidden_layer_2_size = 50\n",
    "output_size = labels_y.shape[0]\n",
    "\n",
    "model = tf.keras.Sequential([\n",
    "#     tf.keras.layers.Flatten(input_shape=(x_test.shape[0], x_test.shape[1])),\n",
    "    tf.keras.layers.Dense(hidden_layer_1_size, activation='relu'),\n",
    "    tf.keras.layers.Dense(hidden_layer_1_size, activation='relu'),\n",
    "    tf.keras.layers.Dense(output_size, activation='softmax')\n",
    "])\n",
    "\n",
    "model.compile(\n",
    "    optimizer='adam',\n",
    "    loss='sparse_categorical_crossentropy',\n",
    "    metrics=['accuracy']\n",
    ")"
   ]
  },
  {
   "cell_type": "code",
   "execution_count": null,
   "metadata": {},
   "outputs": [],
   "source": [
    "# Check inputs shape\n",
    "x_train.shape, y_train.shape"
   ]
  },
  {
   "cell_type": "code",
   "execution_count": 41,
   "metadata": {},
   "outputs": [
    {
     "name": "stdout",
     "output_type": "stream",
     "text": [
      "Epoch 1/20\n",
      "75/75 - 1s - loss: 1.2819 - accuracy: 0.6019 - val_loss: 0.6940 - val_accuracy: 0.8643\n",
      "Epoch 2/20\n",
      "75/75 - 1s - loss: 0.4567 - accuracy: 0.9039 - val_loss: 0.2958 - val_accuracy: 0.8929\n",
      "Epoch 3/20\n",
      "75/75 - 1s - loss: 0.2340 - accuracy: 0.9425 - val_loss: 0.2082 - val_accuracy: 0.9214\n",
      "Epoch 4/20\n",
      "75/75 - 1s - loss: 0.1617 - accuracy: 0.9605 - val_loss: 0.1665 - val_accuracy: 0.9393\n",
      "Epoch 5/20\n",
      "75/75 - 1s - loss: 0.1281 - accuracy: 0.9654 - val_loss: 0.1505 - val_accuracy: 0.9357\n",
      "Epoch 6/20\n",
      "75/75 - 1s - loss: 0.1012 - accuracy: 0.9749 - val_loss: 0.1341 - val_accuracy: 0.9571\n",
      "Epoch 7/20\n",
      "75/75 - 1s - loss: 0.0868 - accuracy: 0.9785 - val_loss: 0.1230 - val_accuracy: 0.9643\n",
      "Epoch 8/20\n",
      "75/75 - 1s - loss: 0.0756 - accuracy: 0.9785 - val_loss: 0.1218 - val_accuracy: 0.9571\n",
      "Epoch 9/20\n",
      "75/75 - 1s - loss: 0.0642 - accuracy: 0.9829 - val_loss: 0.1119 - val_accuracy: 0.9714\n",
      "Epoch 10/20\n",
      "75/75 - 1s - loss: 0.0537 - accuracy: 0.9856 - val_loss: 0.1047 - val_accuracy: 0.9679\n",
      "Epoch 11/20\n",
      "75/75 - 1s - loss: 0.0471 - accuracy: 0.9861 - val_loss: 0.1015 - val_accuracy: 0.9714\n",
      "Epoch 12/20\n",
      "75/75 - 1s - loss: 0.0414 - accuracy: 0.9906 - val_loss: 0.0998 - val_accuracy: 0.9679\n",
      "Epoch 13/20\n",
      "75/75 - 1s - loss: 0.0369 - accuracy: 0.9906 - val_loss: 0.1018 - val_accuracy: 0.9643\n",
      "Epoch 14/20\n",
      "75/75 - 1s - loss: 0.0320 - accuracy: 0.9910 - val_loss: 0.0979 - val_accuracy: 0.9714\n",
      "Epoch 15/20\n",
      "75/75 - 1s - loss: 0.0284 - accuracy: 0.9933 - val_loss: 0.1030 - val_accuracy: 0.9607\n",
      "Epoch 16/20\n",
      "75/75 - 1s - loss: 0.0246 - accuracy: 0.9969 - val_loss: 0.1024 - val_accuracy: 0.9607\n",
      "Epoch 17/20\n",
      "75/75 - 1s - loss: 0.0228 - accuracy: 0.9964 - val_loss: 0.0955 - val_accuracy: 0.9714\n",
      "Epoch 18/20\n",
      "75/75 - 1s - loss: 0.0198 - accuracy: 0.9973 - val_loss: 0.0954 - val_accuracy: 0.9643\n",
      "Epoch 19/20\n",
      "75/75 - 1s - loss: 0.0176 - accuracy: 0.9973 - val_loss: 0.0964 - val_accuracy: 0.9679\n",
      "Epoch 20/20\n",
      "75/75 - 1s - loss: 0.0159 - accuracy: 0.9973 - val_loss: 0.0934 - val_accuracy: 0.9643\n"
     ]
    }
   ],
   "source": [
    "# Train model\n",
    "\n",
    "batch_size = 30\n",
    "max_epochs = 20\n",
    "\n",
    "history = model.fit(x_train,\n",
    "          y_train,\n",
    "          batch_size=batch_size,\n",
    "          epochs=max_epochs,\n",
    "          validation_data=(x_val, y_val),\n",
    "          verbose=2\n",
    "          )"
   ]
  },
  {
   "cell_type": "code",
   "execution_count": 42,
   "metadata": {},
   "outputs": [
    {
     "name": "stdout",
     "output_type": "stream",
     "text": [
      "Model: \"sequential_2\"\n",
      "_________________________________________________________________\n",
      "Layer (type)                 Output Shape              Param #   \n",
      "=================================================================\n",
      "dense_6 (Dense)              (None, 50)                1450      \n",
      "_________________________________________________________________\n",
      "dense_7 (Dense)              (None, 50)                2550      \n",
      "_________________________________________________________________\n",
      "dense_8 (Dense)              (None, 7)                 357       \n",
      "=================================================================\n",
      "Total params: 4,357\n",
      "Trainable params: 4,357\n",
      "Non-trainable params: 0\n",
      "_________________________________________________________________\n"
     ]
    }
   ],
   "source": [
    "model.summary()"
   ]
  },
  {
   "cell_type": "code",
   "execution_count": 43,
   "metadata": {},
   "outputs": [
    {
     "data": {
      "image/png": "[encoded data removed]",
      "text/plain": [
       "<Figure size 432x288 with 1 Axes>"
      ]
     },
     "metadata": {
      "needs_background": "light"
     },
     "output_type": "display_data"
    },
    {
     "data": {
      "image/png": "[encoded data removed]",
      "text/plain": [
       "<Figure size 432x288 with 1 Axes>"
      ]
     },
     "metadata": {
      "needs_background": "light"
     },
     "output_type": "display_data"
    }
   ],
   "source": [
    "# History for accuracy\n",
    "plt.plot(history.history['accuracy'])\n",
    "plt.plot(history.history['val_accuracy'])\n",
    "plt.title('model accuracy')\n",
    "plt.ylabel('accuracy')\n",
    "plt.xlabel('epoch')\n",
    "plt.yticks([0.75, 1])\n",
    "plt.legend(['train', 'test'], loc='upper left')\n",
    "plt.show()\n",
    "\n",
    "# History for loss\n",
    "plt.plot(history.history['loss'])\n",
    "plt.plot(history.history['val_loss'])\n",
    "plt.title('model loss')\n",
    "plt.ylabel('loss')\n",
    "plt.xlabel('epoch')\n",
    "plt.legend(['train', 'test'], loc='upper left')\n",
    "plt.show()"
   ]
  },
  {
   "cell_type": "code",
   "execution_count": 44,
   "metadata": {},
   "outputs": [
    {
     "name": "stdout",
     "output_type": "stream",
     "text": [
      "9/9 [==============================] - 0s 7ms/step - loss: 0.1047 - accuracy: 0.9568\n",
      "\n",
      "Test loss: 0.10. Test accuracy: 95.68%\n"
     ]
    }
   ],
   "source": [
    "# Evaluate model\n",
    "\n",
    "test_loss, test_accuracy = model.evaluate(x_test, y_test)\n",
    "\n",
    "print('\\nTest loss: {0:.2f}. Test accuracy: {1:.2f}%'.format(test_loss, test_accuracy*100.))"
   ]
  },
  {
   "cell_type": "code",
   "execution_count": 46,
   "metadata": {},
   "outputs": [],
   "source": [
    "y_test_pred = model.predict(x_test)\n",
    "y_test_pred = np.argmax(y_test_pred, axis=1)"
   ]
  },
  {
   "cell_type": "code",
   "execution_count": 49,
   "metadata": {},
   "outputs": [],
   "source": [
    "confusion_matrix = tf.math.confusion_matrix(y_test, y_test_pred)"
   ]
  },
  {
   "cell_type": "code",
   "execution_count": 56,
   "metadata": {},
   "outputs": [],
   "source": [
    "def plot_confusion_matrix(cm, classes,\n",
    "                        title='Confusion matrix',\n",
    "                        cmap=plt.cm.Blues):\n",
    "    \"\"\"\n",
    "    This function prints and plots the confusion matrix.\n",
    "    Normalization can be applied by setting `normalize=True`.\n",
    "    \"\"\"\n",
    "    plt.imshow(cm, interpolation='nearest', cmap=cmap)\n",
    "    plt.title(title)\n",
    "    plt.colorbar()\n",
    "    tick_marks = np.arange(len(classes))\n",
    "    plt.xticks(tick_marks, classes, rotation=45)\n",
    "    plt.yticks(tick_marks, classes)\n",
    "\n",
    "    plt.tight_layout()\n",
    "    plt.ylabel('True label')\n",
    "    plt.xlabel('Predicted label')"
   ]
  },
  {
   "cell_type": "code",
   "execution_count": 58,
   "metadata": {},
   "outputs": [
    {
     "data": {
      "image/png": "[encoded data removed]",
      "text/plain": [
       "<Figure size 432x288 with 2 Axes>"
      ]
     },
     "metadata": {
      "needs_background": "light"
     },
     "output_type": "display_data"
    }
   ],
   "source": [
    "plot_confusion_matrix(confusion_matrix, labels_y,\n",
    "                        title='Confusion matrix',\n",
    "                        cmap=plt.cm.Blues)"
   ]
  }
 ],
 "metadata": {
  "kernelspec": {
   "display_name": "Python 3",
   "language": "python",
   "name": "python3"
  },
  "language_info": {
   "codemirror_mode": {
    "name": "ipython",
    "version": 3
   },
   "file_extension": ".py",
   "mimetype": "text/x-python",
   "name": "python",
   "nbconvert_exporter": "python",
   "pygments_lexer": "ipython3",
   "version": "3.8.2"
  }
 },
 "nbformat": 4,
 "nbformat_minor": 4
}
