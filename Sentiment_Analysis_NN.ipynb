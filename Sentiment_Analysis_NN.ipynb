{
 "cells": [
  {
   "cell_type": "markdown",
   "metadata": {},
   "source": [
    "# Neural Network Classifier for Sentiment Analysis of Conversations"
   ]
  },
  {
   "cell_type": "code",
   "execution_count": 1,
   "metadata": {},
   "outputs": [],
   "source": [
    "from scipy.io.wavfile import read, write\n",
    "import matplotlib.pyplot as plt\n",
    "import numpy as np\n",
    "import librosa\n",
    "import os\n",
    "import tensorflow as tf\n",
    "from sklearn import preprocessing\n",
    "from Audio_Preprocess import *"
   ]
  },
  {
   "cell_type": "code",
   "execution_count": 2,
   "metadata": {},
   "outputs": [],
   "source": [
    "# Load data\n",
    "npz = np.load('Sentiment_analysis_data.npz')\n",
    "x = npz['inputs']\n",
    "y = npz['targets']"
   ]
  },
  {
   "cell_type": "code",
   "execution_count": 3,
   "metadata": {},
   "outputs": [],
   "source": [
    "# Standarise data\n",
    "scaled_x = preprocessing.scale(x)"
   ]
  },
  {
   "cell_type": "code",
   "execution_count": 4,
   "metadata": {},
   "outputs": [],
   "source": [
    "# Shuffle data\n",
    "n = x.shape[0]\n",
    "shuffled_indices = np.arange(n)\n",
    "np.random.shuffle(shuffled_indices)\n",
    "\n",
    "shuffled_x = scaled_x[shuffled_indices]\n",
    "shuffled_y = y[shuffled_indices]"
   ]
  },
  {
   "cell_type": "code",
   "execution_count": 5,
   "metadata": {},
   "outputs": [],
   "source": [
    "# One hot enconding for labels\n",
    "labels_y, onehot_y = np.unique(shuffled_y, return_inverse=True)\n",
    "# shuffled_y, labels_y, onehot_y"
   ]
  },
  {
   "cell_type": "code",
   "execution_count": 6,
   "metadata": {},
   "outputs": [
    {
     "data": {
      "text/plain": [
       "array([0, 1, 4, ..., 3, 4, 4])"
      ]
     },
     "execution_count": 6,
     "metadata": {},
     "output_type": "execute_result"
    }
   ],
   "source": [
    "onehot_y"
   ]
  },
  {
   "cell_type": "code",
   "execution_count": 7,
   "metadata": {},
   "outputs": [],
   "source": [
    "# Generate training and testing sets\n",
    "\n",
    "ratio = 0.75\n",
    "\n",
    "n_train = int(n*0.75)\n",
    "\n",
    "x_train = shuffled_x[:n_train]\n",
    "y_train = onehot_y[:n_train]\n",
    "\n",
    "x_test = shuffled_x[n_train:]\n",
    "y_test = onehot_y[n_train:]"
   ]
  },
  {
   "cell_type": "code",
   "execution_count": 8,
   "metadata": {},
   "outputs": [],
   "source": [
    "# Generate training and testing sets\n",
    "\n",
    "ratios = [0.8, 0.1, 0.1]\n",
    "\n",
    "n_train = int(n*ratios[0])\n",
    "n_test = int(n*ratios[1])\n",
    "\n",
    "x_train = shuffled_x[:n_train]\n",
    "y_train = onehot_y[:n_train]\n",
    "\n",
    "x_test = shuffled_x[n_train:n_train+n_test]\n",
    "y_test = onehot_y[n_train:n_train+n_test]\n",
    "\n",
    "x_val = shuffled_x[n_train+n_test:]\n",
    "y_val = onehot_y[n_train+n_test:]"
   ]
  },
  {
   "cell_type": "code",
   "execution_count": 9,
   "metadata": {},
   "outputs": [],
   "source": [
    "# Create NN model\n",
    "\n",
    "hidden_layer_1_size = 50\n",
    "hidden_layer_2_size = 50\n",
    "output_size = labels_y.shape[0]\n",
    "\n",
    "model = tf.keras.Sequential([\n",
    "#     tf.keras.layers.Flatten(input_shape=(x_test.shape[0], x_test.shape[1])),\n",
    "    tf.keras.layers.Dense(hidden_layer_1_size, activation='relu'),\n",
    "    tf.keras.layers.Dense(hidden_layer_1_size, activation='relu'),\n",
    "    tf.keras.layers.Dense(output_size, activation='softmax')\n",
    "])\n",
    "\n",
    "model.compile(\n",
    "    optimizer='adam',\n",
    "    loss='sparse_categorical_crossentropy',\n",
    "    metrics=['accuracy']\n",
    ")"
   ]
  },
  {
   "cell_type": "code",
   "execution_count": 10,
   "metadata": {},
   "outputs": [
    {
     "data": {
      "text/plain": [
       "((2228, 28), (2228,))"
      ]
     },
     "execution_count": 10,
     "metadata": {},
     "output_type": "execute_result"
    }
   ],
   "source": [
    "# Check inputs shape\n",
    "x_train.shape, y_train.shape"
   ]
  },
  {
   "cell_type": "code",
   "execution_count": 11,
   "metadata": {},
   "outputs": [
    {
     "name": "stdout",
     "output_type": "stream",
     "text": [
      "Epoch 1/20\n",
      "75/75 - 1s - loss: 1.4907 - accuracy: 0.5085 - val_loss: 0.8970 - val_accuracy: 0.8250\n",
      "Epoch 2/20\n",
      "75/75 - 1s - loss: 0.5992 - accuracy: 0.8662 - val_loss: 0.3544 - val_accuracy: 0.9214\n",
      "Epoch 3/20\n",
      "75/75 - 1s - loss: 0.2806 - accuracy: 0.9259 - val_loss: 0.2105 - val_accuracy: 0.9500\n",
      "Epoch 4/20\n",
      "75/75 - 1s - loss: 0.1805 - accuracy: 0.9506 - val_loss: 0.1676 - val_accuracy: 0.9536\n",
      "Epoch 5/20\n",
      "75/75 - 1s - loss: 0.1356 - accuracy: 0.9627 - val_loss: 0.1473 - val_accuracy: 0.9607\n",
      "Epoch 6/20\n",
      "75/75 - 1s - loss: 0.1075 - accuracy: 0.9722 - val_loss: 0.1318 - val_accuracy: 0.9571\n",
      "Epoch 7/20\n",
      "75/75 - 1s - loss: 0.0873 - accuracy: 0.9767 - val_loss: 0.1429 - val_accuracy: 0.9536\n",
      "Epoch 8/20\n",
      "75/75 - 1s - loss: 0.0754 - accuracy: 0.9780 - val_loss: 0.1147 - val_accuracy: 0.9571\n",
      "Epoch 9/20\n",
      "75/75 - 1s - loss: 0.0647 - accuracy: 0.9816 - val_loss: 0.1132 - val_accuracy: 0.9571\n",
      "Epoch 10/20\n",
      "75/75 - 1s - loss: 0.0540 - accuracy: 0.9847 - val_loss: 0.0972 - val_accuracy: 0.9714\n",
      "Epoch 11/20\n",
      "75/75 - 1s - loss: 0.0458 - accuracy: 0.9901 - val_loss: 0.1154 - val_accuracy: 0.9571\n",
      "Epoch 12/20\n",
      "75/75 - 1s - loss: 0.0405 - accuracy: 0.9897 - val_loss: 0.1029 - val_accuracy: 0.9607\n",
      "Epoch 13/20\n",
      "75/75 - 1s - loss: 0.0365 - accuracy: 0.9897 - val_loss: 0.0970 - val_accuracy: 0.9679\n",
      "Epoch 14/20\n",
      "75/75 - 1s - loss: 0.0304 - accuracy: 0.9951 - val_loss: 0.1011 - val_accuracy: 0.9643\n",
      "Epoch 15/20\n",
      "75/75 - 1s - loss: 0.0275 - accuracy: 0.9942 - val_loss: 0.0952 - val_accuracy: 0.9679\n",
      "Epoch 16/20\n",
      "75/75 - 1s - loss: 0.0234 - accuracy: 0.9982 - val_loss: 0.0964 - val_accuracy: 0.9607\n",
      "Epoch 17/20\n",
      "75/75 - 1s - loss: 0.0213 - accuracy: 0.9978 - val_loss: 0.0888 - val_accuracy: 0.9714\n",
      "Epoch 18/20\n",
      "75/75 - 1s - loss: 0.0184 - accuracy: 0.9969 - val_loss: 0.0834 - val_accuracy: 0.9750\n",
      "Epoch 19/20\n",
      "75/75 - 1s - loss: 0.0164 - accuracy: 0.9991 - val_loss: 0.0876 - val_accuracy: 0.9643\n",
      "Epoch 20/20\n",
      "75/75 - 1s - loss: 0.0152 - accuracy: 0.9982 - val_loss: 0.0868 - val_accuracy: 0.9679\n"
     ]
    }
   ],
   "source": [
    "# Train model\n",
    "\n",
    "batch_size = 30\n",
    "max_epochs = 20\n",
    "\n",
    "history = model.fit(x_train,\n",
    "          y_train,\n",
    "          batch_size=batch_size,\n",
    "          epochs=max_epochs,\n",
    "          validation_data=(x_val, y_val),\n",
    "          verbose=2\n",
    "          )"
   ]
  },
  {
   "cell_type": "code",
   "execution_count": 12,
   "metadata": {},
   "outputs": [
    {
     "name": "stdout",
     "output_type": "stream",
     "text": [
      "Model: \"sequential\"\n",
      "_________________________________________________________________\n",
      "Layer (type)                 Output Shape              Param #   \n",
      "=================================================================\n",
      "dense (Dense)                (None, 50)                1450      \n",
      "_________________________________________________________________\n",
      "dense_1 (Dense)              (None, 50)                2550      \n",
      "_________________________________________________________________\n",
      "dense_2 (Dense)              (None, 7)                 357       \n",
      "=================================================================\n",
      "Total params: 4,357\n",
      "Trainable params: 4,357\n",
      "Non-trainable params: 0\n",
      "_________________________________________________________________\n"
     ]
    }
   ],
   "source": [
    "model.summary()"
   ]
  },
  {
   "cell_type": "code",
   "execution_count": 13,
   "metadata": {},
   "outputs": [
    {
     "data": {
      "image/png": "[encoded data removed]",
      "text/plain": [
       "<Figure size 432x288 with 1 Axes>"
      ]
     },
     "metadata": {
      "needs_background": "light"
     },
     "output_type": "display_data"
    },
    {
     "data": {
      "image/png": "[encoded data removed]",
      "text/plain": [
       "<Figure size 432x288 with 1 Axes>"
      ]
     },
     "metadata": {
      "needs_background": "light"
     },
     "output_type": "display_data"
    }
   ],
   "source": [
    "# History for accuracy\n",
    "plt.plot(history.history['accuracy'])\n",
    "plt.plot(history.history['val_accuracy'])\n",
    "plt.title('model accuracy')\n",
    "plt.ylabel('accuracy')\n",
    "plt.xlabel('epoch')\n",
    "plt.yticks([0.75, 1])\n",
    "plt.legend(['train', 'test'], loc='upper left')\n",
    "plt.show()\n",
    "\n",
    "# History for loss\n",
    "plt.plot(history.history['loss'])\n",
    "plt.plot(history.history['val_loss'])\n",
    "plt.title('model loss')\n",
    "plt.ylabel('loss')\n",
    "plt.xlabel('epoch')\n",
    "plt.legend(['train', 'test'], loc='upper left')\n",
    "plt.show()"
   ]
  },
  {
   "cell_type": "code",
   "execution_count": 14,
   "metadata": {},
   "outputs": [
    {
     "name": "stdout",
     "output_type": "stream",
     "text": [
      "9/9 [==============================] - 0s 5ms/step - loss: 0.1258 - accuracy: 0.9820\n",
      "\n",
      "Test loss: 0.13. Test accuracy: 98.20%\n"
     ]
    }
   ],
   "source": [
    "# Evaluate model\n",
    "\n",
    "test_loss, test_accuracy = model.evaluate(x_test, y_test)\n",
    "\n",
    "print('\\nTest loss: {0:.2f}. Test accuracy: {1:.2f}%'.format(test_loss, test_accuracy*100.))"
   ]
  },
  {
   "cell_type": "code",
   "execution_count": 15,
   "metadata": {},
   "outputs": [],
   "source": [
    "y_test_pred = model.predict(x_test)\n",
    "y_test_pred = np.argmax(y_test_pred, axis=1)"
   ]
  },
  {
   "cell_type": "code",
   "execution_count": 16,
   "metadata": {},
   "outputs": [],
   "source": [
    "confusion_matrix = tf.math.confusion_matrix(y_test, y_test_pred)"
   ]
  },
  {
   "cell_type": "code",
   "execution_count": 17,
   "metadata": {},
   "outputs": [],
   "source": [
    "def plot_confusion_matrix(cm, classes,\n",
    "                        title='Confusion matrix',\n",
    "                        cmap=plt.cm.Blues):\n",
    "    \"\"\"\n",
    "    This function prints and plots the confusion matrix.\n",
    "    Normalization can be applied by setting `normalize=True`.\n",
    "    \"\"\"\n",
    "    plt.imshow(cm, interpolation='nearest', cmap=cmap)\n",
    "    plt.title(title)\n",
    "    plt.colorbar()\n",
    "    tick_marks = np.arange(len(classes))\n",
    "    plt.xticks(tick_marks, classes, rotation=45)\n",
    "    plt.yticks(tick_marks, classes)\n",
    "\n",
    "    plt.tight_layout()\n",
    "    plt.ylabel('True label')\n",
    "    plt.xlabel('Predicted label')"
   ]
  },
  {
   "cell_type": "code",
   "execution_count": 18,
   "metadata": {},
   "outputs": [
    {
     "data": {
      "image/png": "[encoded data removed]",
      "text/plain": [
       "<Figure size 432x288 with 2 Axes>"
      ]
     },
     "metadata": {
      "needs_background": "light"
     },
     "output_type": "display_data"
    }
   ],
   "source": [
    "plot_confusion_matrix(confusion_matrix, labels_y,\n",
    "                        title='Confusion matrix',\n",
    "                        cmap=plt.cm.Blues)"
   ]
  },
  {
   "cell_type": "markdown",
   "metadata": {},
   "source": [
    "## Test of model with real audio"
   ]
  },
  {
   "cell_type": "code",
   "execution_count": 40,
   "metadata": {},
   "outputs": [],
   "source": [
    "filename = 'test_data/happy02.wav'"
   ]
  },
  {
   "cell_type": "code",
   "execution_count": 41,
   "metadata": {},
   "outputs": [],
   "source": [
    "final_test = preprocess_signal(filename)\n",
    "final_test = np.expand_dims(final_test, 1).T"
   ]
  },
  {
   "cell_type": "code",
   "execution_count": 42,
   "metadata": {},
   "outputs": [
    {
     "data": {
      "text/plain": [
       "array(['angry'], dtype='<U32')"
      ]
     },
     "execution_count": 42,
     "metadata": {},
     "output_type": "execute_result"
    }
   ],
   "source": [
    "labels_y[np.argmax(model.predict(final_test), axis=1)]"
   ]
  }
 ],
 "metadata": {
  "kernelspec": {
   "display_name": "Python 3",
   "language": "python",
   "name": "python3"
  },
  "language_info": {
   "codemirror_mode": {
    "name": "ipython",
    "version": 3
   },
   "file_extension": ".py",
   "mimetype": "text/x-python",
   "name": "python",
   "nbconvert_exporter": "python",
   "pygments_lexer": "ipython3",
   "version": "3.8.2"
  }
 },
 "nbformat": 4,
 "nbformat_minor": 4
}
