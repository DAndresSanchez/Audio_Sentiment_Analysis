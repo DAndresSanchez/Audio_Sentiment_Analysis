{
 "cells": [
  {
   "cell_type": "code",
   "execution_count": 2,
   "metadata": {},
   "outputs": [],
   "source": [
    "from scipy.io.wavfile import read, write\n",
    "import matplotlib.pyplot as plt\n",
    "import numpy as np\n",
    "import librosa\n",
    "import os\n",
    "import tensorflow as tf\n",
    "from sklearn import preprocessing\n",
    "from Audio_Preprocess import *"
   ]
  },
  {
   "cell_type": "code",
   "execution_count": 3,
   "metadata": {},
   "outputs": [],
   "source": [
    "# Load data\n",
    "npz = np.load('Sentiment_analysis_data.npz')\n",
    "x = npz['inputs']\n",
    "y = npz['targets']"
   ]
  },
  {
   "cell_type": "code",
   "execution_count": 4,
   "metadata": {},
   "outputs": [],
   "source": [
    "# Standarise data\n",
    "scaled_x = preprocessing.scale(x)"
   ]
  },
  {
   "cell_type": "code",
   "execution_count": 5,
   "metadata": {},
   "outputs": [],
   "source": [
    "# Shuffle data\n",
    "n = x.shape[0]\n",
    "shuffled_indices = np.arange(n)\n",
    "np.random.shuffle(shuffled_indices)\n",
    "\n",
    "shuffled_x = scaled_x[shuffled_indices]\n",
    "shuffled_y = y[shuffled_indices]"
   ]
  },
  {
   "cell_type": "code",
   "execution_count": 8,
   "metadata": {},
   "outputs": [
    {
     "data": {
      "text/plain": [
       "(array(['happy', 'sad', 'happy', 'sad'], dtype='<U32'),\n",
       " array(['happy', 'sad'], dtype='<U32'),\n",
       " array([0, 1, 0, 1]))"
      ]
     },
     "execution_count": 8,
     "metadata": {},
     "output_type": "execute_result"
    }
   ],
   "source": [
    "# One hot enconding for labels\n",
    "labels_y, onehot_y = np.unique(shuffled_y, return_inverse=True)\n",
    "shuffled_y, labels_y, onehot_y"
   ]
  },
  {
   "cell_type": "code",
   "execution_count": 10,
   "metadata": {},
   "outputs": [],
   "source": [
    "# Generate training and testing sets\n",
    "\n",
    "ratio = 0.75\n",
    "\n",
    "n_train = int(n*0.75)\n",
    "\n",
    "x_train = shuffled_x[:n_train]\n",
    "y_train = onehot_y[:n_train]\n",
    "\n",
    "x_test = shuffled_x[n_train:]\n",
    "y_test = onehot_y[n_train:]"
   ]
  },
  {
   "cell_type": "code",
   "execution_count": 11,
   "metadata": {},
   "outputs": [],
   "source": [
    "# Create NN model\n",
    "\n",
    "hidden_layer_1_size = 50\n",
    "hidden_layer_2_size = 50\n",
    "output_size = 2\n",
    "\n",
    "model = tf.keras.Sequential([\n",
    "#     tf.keras.layers.Flatten(input_shape=(x_test.shape[0], x_test.shape[1])),\n",
    "    tf.keras.layers.Dense(hidden_layer_1_size, activation='relu'),\n",
    "    tf.keras.layers.Dense(hidden_layer_1_size, activation='relu'),\n",
    "    tf.keras.layers.Dense(output_size, activation='softmax')\n",
    "])\n",
    "\n",
    "model.compile(\n",
    "    optimizer='adam',\n",
    "    loss='sparse_categorical_crossentropy',\n",
    "    metrics=['accuracy']\n",
    ")"
   ]
  },
  {
   "cell_type": "code",
   "execution_count": 13,
   "metadata": {},
   "outputs": [
    {
     "data": {
      "text/plain": [
       "((3, 28), (3,))"
      ]
     },
     "execution_count": 13,
     "metadata": {},
     "output_type": "execute_result"
    }
   ],
   "source": [
    "# Check inputs shape\n",
    "x_train.shape, y_train.shape"
   ]
  },
  {
   "cell_type": "code",
   "execution_count": 14,
   "metadata": {},
   "outputs": [
    {
     "name": "stdout",
     "output_type": "stream",
     "text": [
      "Epoch 1/10\n",
      "3/3 - 0s - loss: 0.5096 - accuracy: 1.0000\n",
      "Epoch 2/10\n",
      "3/3 - 0s - loss: 0.3874 - accuracy: 1.0000\n",
      "Epoch 3/10\n",
      "3/3 - 0s - loss: 0.3070 - accuracy: 1.0000\n",
      "Epoch 4/10\n",
      "3/3 - 0s - loss: 0.2475 - accuracy: 1.0000\n",
      "Epoch 5/10\n",
      "3/3 - 0s - loss: 0.1974 - accuracy: 1.0000\n",
      "Epoch 6/10\n",
      "3/3 - 0s - loss: 0.1589 - accuracy: 1.0000\n",
      "Epoch 7/10\n",
      "3/3 - 0s - loss: 0.1293 - accuracy: 1.0000\n",
      "Epoch 8/10\n",
      "3/3 - 0s - loss: 0.1072 - accuracy: 1.0000\n",
      "Epoch 9/10\n",
      "3/3 - 0s - loss: 0.0908 - accuracy: 1.0000\n",
      "Epoch 10/10\n",
      "3/3 - 0s - loss: 0.0776 - accuracy: 1.0000\n"
     ]
    },
    {
     "data": {
      "text/plain": [
       "<tensorflow.python.keras.callbacks.History at 0x7f7fa4397d30>"
      ]
     },
     "execution_count": 14,
     "metadata": {},
     "output_type": "execute_result"
    }
   ],
   "source": [
    "# Train model\n",
    "\n",
    "batch_size = 1\n",
    "max_epochs = 10\n",
    "\n",
    "model.fit(x_train,\n",
    "          y_train,\n",
    "          batch_size=batch_size,\n",
    "          epochs=max_epochs,\n",
    "          verbose=2\n",
    "          )"
   ]
  },
  {
   "cell_type": "code",
   "execution_count": 16,
   "metadata": {},
   "outputs": [
    {
     "name": "stdout",
     "output_type": "stream",
     "text": [
      "1/1 [==============================] - 0s 6ms/step - loss: 0.8648 - accuracy: 0.0000e+00\n",
      "\n",
      "Test loss: 0.86. Test accuracy: 0.00%\n"
     ]
    }
   ],
   "source": [
    "# Evalueate model\n",
    "\n",
    "test_loss, test_accuracy = model.evaluate(x_test, y_test)\n",
    "\n",
    "print('\\nTest loss: {0:.2f}. Test accuracy: {1:.2f}%'.format(test_loss, test_accuracy*100.))"
   ]
  }
 ],
 "metadata": {
  "kernelspec": {
   "display_name": "Python 3",
   "language": "python",
   "name": "python3"
  },
  "language_info": {
   "codemirror_mode": {
    "name": "ipython",
    "version": 3
   },
   "file_extension": ".py",
   "mimetype": "text/x-python",
   "name": "python",
   "nbconvert_exporter": "python",
   "pygments_lexer": "ipython3",
   "version": "3.8.2"
  }
 },
 "nbformat": 4,
 "nbformat_minor": 4
}
