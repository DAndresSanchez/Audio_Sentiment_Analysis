{
 "cells": [
  {
   "cell_type": "code",
   "execution_count": 1,
   "metadata": {},
   "outputs": [],
   "source": [
    "from scipy.io.wavfile import read, write\n",
    "import librosa\n",
    "\n",
    "import matplotlib.pyplot as plt\n",
    "import numpy as np\n",
    "import pandas as pd\n",
    "import os\n",
    "\n",
    "from sklearn import preprocessing\n",
    "from sklearn.model_selection import train_test_split\n",
    "from sklearn.ensemble import RandomForestClassifier\n",
    "from sklearn.datasets import make_classification\n",
    "\n",
    "from Audio_Preprocess import *"
   ]
  },
  {
   "cell_type": "code",
   "execution_count": 2,
   "metadata": {},
   "outputs": [],
   "source": [
    "# Import data\n",
    "npz = np.load('Sentiment_analysis_data.npz')\n",
    "x = npz['inputs']\n",
    "y = npz['targets']"
   ]
  },
  {
   "cell_type": "code",
   "execution_count": 3,
   "metadata": {},
   "outputs": [],
   "source": [
    "# Standarise data\n",
    "scaled_x = preprocessing.scale(x)"
   ]
  },
  {
   "cell_type": "code",
   "execution_count": 4,
   "metadata": {},
   "outputs": [],
   "source": [
    "# Shuffle data\n",
    "n = x.shape[0]\n",
    "shuffled_indices = np.arange(n)\n",
    "np.random.shuffle(shuffled_indices)\n",
    "\n",
    "shuffled_x = scaled_x[shuffled_indices]\n",
    "shuffled_y = y[shuffled_indices]"
   ]
  },
  {
   "cell_type": "code",
   "execution_count": 5,
   "metadata": {},
   "outputs": [],
   "source": [
    "# Merge inputs and targets\n",
    "data = add_label_arrays(shuffled_x, np.expand_dims(shuffled_y, axis=1))"
   ]
  },
  {
   "cell_type": "code",
   "execution_count": 6,
   "metadata": {},
   "outputs": [
    {
     "data": {
      "text/html": [
       "<div>\n",
       "<style scoped>\n",
       "    .dataframe tbody tr th:only-of-type {\n",
       "        vertical-align: middle;\n",
       "    }\n",
       "\n",
       "    .dataframe tbody tr th {\n",
       "        vertical-align: top;\n",
       "    }\n",
       "\n",
       "    .dataframe thead th {\n",
       "        text-align: right;\n",
       "    }\n",
       "</style>\n",
       "<table border=\"1\" class=\"dataframe\">\n",
       "  <thead>\n",
       "    <tr style=\"text-align: right;\">\n",
       "      <th></th>\n",
       "      <th>c0</th>\n",
       "      <th>c1</th>\n",
       "      <th>c2</th>\n",
       "      <th>c3</th>\n",
       "      <th>c4</th>\n",
       "      <th>c5</th>\n",
       "      <th>c6</th>\n",
       "      <th>c7</th>\n",
       "      <th>c8</th>\n",
       "      <th>c9</th>\n",
       "      <th>...</th>\n",
       "      <th>c19</th>\n",
       "      <th>c20</th>\n",
       "      <th>c21</th>\n",
       "      <th>c22</th>\n",
       "      <th>c23</th>\n",
       "      <th>c24</th>\n",
       "      <th>c25</th>\n",
       "      <th>c26</th>\n",
       "      <th>c27</th>\n",
       "      <th>label</th>\n",
       "    </tr>\n",
       "  </thead>\n",
       "  <tbody>\n",
       "    <tr>\n",
       "      <th>0</th>\n",
       "      <td>0.3431628650878422</td>\n",
       "      <td>1.159931215544506</td>\n",
       "      <td>-0.6722793478148194</td>\n",
       "      <td>0.613737809687941</td>\n",
       "      <td>0.8671790916383292</td>\n",
       "      <td>0.0709244571672214</td>\n",
       "      <td>-0.9743372478695403</td>\n",
       "      <td>-1.5048087359158218</td>\n",
       "      <td>0.9941466448667023</td>\n",
       "      <td>1.5178366343533465</td>\n",
       "      <td>...</td>\n",
       "      <td>-0.33495798145604677</td>\n",
       "      <td>1.581160145084519</td>\n",
       "      <td>0.5639332120523426</td>\n",
       "      <td>1.1445082664316335</td>\n",
       "      <td>-0.3357706193051832</td>\n",
       "      <td>1.6438633130013935</td>\n",
       "      <td>1.4700974120537167</td>\n",
       "      <td>0.8904749590317185</td>\n",
       "      <td>-0.8768771621142933</td>\n",
       "      <td>sad</td>\n",
       "    </tr>\n",
       "    <tr>\n",
       "      <th>1</th>\n",
       "      <td>0.30895459211180437</td>\n",
       "      <td>-1.5825778872148428</td>\n",
       "      <td>1.4248200036292369</td>\n",
       "      <td>0.7674760335829872</td>\n",
       "      <td>0.57351480086283</td>\n",
       "      <td>1.1020624647597066</td>\n",
       "      <td>-0.9237548098987672</td>\n",
       "      <td>-0.24867001955403326</td>\n",
       "      <td>-0.3674583137056594</td>\n",
       "      <td>-1.1121059325057763</td>\n",
       "      <td>...</td>\n",
       "      <td>1.7124722962861887</td>\n",
       "      <td>0.1394273918521374</td>\n",
       "      <td>1.1583172961740618</td>\n",
       "      <td>0.6759672262532609</td>\n",
       "      <td>1.4632453978603188</td>\n",
       "      <td>-0.0851440958355541</td>\n",
       "      <td>-1.0634095782014796</td>\n",
       "      <td>0.3701441392047316</td>\n",
       "      <td>-0.8073163687330629</td>\n",
       "      <td>happy</td>\n",
       "    </tr>\n",
       "    <tr>\n",
       "      <th>2</th>\n",
       "      <td>-1.662875417425459</td>\n",
       "      <td>0.03712273083185457</td>\n",
       "      <td>-1.1620087438042765</td>\n",
       "      <td>-1.7105163780122423</td>\n",
       "      <td>-1.6902133675353668</td>\n",
       "      <td>-1.6093519276238055</td>\n",
       "      <td>0.5040925207951985</td>\n",
       "      <td>0.6156167851233635</td>\n",
       "      <td>-1.4709878292314233</td>\n",
       "      <td>0.2313486775745487</td>\n",
       "      <td>...</td>\n",
       "      <td>-0.631884750528149</td>\n",
       "      <td>-0.8484223349672926</td>\n",
       "      <td>-1.5158034067902593</td>\n",
       "      <td>-1.446942333321158</td>\n",
       "      <td>-1.308912304553516</td>\n",
       "      <td>-0.9738603696757567</td>\n",
       "      <td>-0.7624844050686826</td>\n",
       "      <td>-1.6969555560320944</td>\n",
       "      <td>1.6040261580395567</td>\n",
       "      <td>happy</td>\n",
       "    </tr>\n",
       "    <tr>\n",
       "      <th>3</th>\n",
       "      <td>1.0107579602258088</td>\n",
       "      <td>0.3855239408384842</td>\n",
       "      <td>0.4094680879898581</td>\n",
       "      <td>0.32930253474131427</td>\n",
       "      <td>0.24951947503420774</td>\n",
       "      <td>0.4363650056968779</td>\n",
       "      <td>1.39399953697311</td>\n",
       "      <td>1.1378619703464905</td>\n",
       "      <td>0.8442994980703807</td>\n",
       "      <td>-0.6370793794221187</td>\n",
       "      <td>...</td>\n",
       "      <td>-0.7456295643019912</td>\n",
       "      <td>-0.8721652019693638</td>\n",
       "      <td>-0.20644710143613704</td>\n",
       "      <td>-0.37353315936373443</td>\n",
       "      <td>0.1814375259983843</td>\n",
       "      <td>-0.5848588474900814</td>\n",
       "      <td>0.35579657121643693</td>\n",
       "      <td>0.43633645779564767</td>\n",
       "      <td>0.08016737280779206</td>\n",
       "      <td>sad</td>\n",
       "    </tr>\n",
       "  </tbody>\n",
       "</table>\n",
       "<p>4 rows × 29 columns</p>\n",
       "</div>"
      ],
      "text/plain": [
       "                    c0                   c1                   c2  \\\n",
       "0   0.3431628650878422    1.159931215544506  -0.6722793478148194   \n",
       "1  0.30895459211180437  -1.5825778872148428   1.4248200036292369   \n",
       "2   -1.662875417425459  0.03712273083185457  -1.1620087438042765   \n",
       "3   1.0107579602258088   0.3855239408384842   0.4094680879898581   \n",
       "\n",
       "                    c3                   c4                   c5  \\\n",
       "0    0.613737809687941   0.8671790916383292   0.0709244571672214   \n",
       "1   0.7674760335829872     0.57351480086283   1.1020624647597066   \n",
       "2  -1.7105163780122423  -1.6902133675353668  -1.6093519276238055   \n",
       "3  0.32930253474131427  0.24951947503420774   0.4363650056968779   \n",
       "\n",
       "                    c6                    c7                   c8  \\\n",
       "0  -0.9743372478695403   -1.5048087359158218   0.9941466448667023   \n",
       "1  -0.9237548098987672  -0.24867001955403326  -0.3674583137056594   \n",
       "2   0.5040925207951985    0.6156167851233635  -1.4709878292314233   \n",
       "3     1.39399953697311    1.1378619703464905   0.8442994980703807   \n",
       "\n",
       "                    c9  ...                   c19                  c20  \\\n",
       "0   1.5178366343533465  ...  -0.33495798145604677    1.581160145084519   \n",
       "1  -1.1121059325057763  ...    1.7124722962861887   0.1394273918521374   \n",
       "2   0.2313486775745487  ...    -0.631884750528149  -0.8484223349672926   \n",
       "3  -0.6370793794221187  ...   -0.7456295643019912  -0.8721652019693638   \n",
       "\n",
       "                    c21                   c22                  c23  \\\n",
       "0    0.5639332120523426    1.1445082664316335  -0.3357706193051832   \n",
       "1    1.1583172961740618    0.6759672262532609   1.4632453978603188   \n",
       "2   -1.5158034067902593    -1.446942333321158   -1.308912304553516   \n",
       "3  -0.20644710143613704  -0.37353315936373443   0.1814375259983843   \n",
       "\n",
       "                   c24                  c25                  c26  \\\n",
       "0   1.6438633130013935   1.4700974120537167   0.8904749590317185   \n",
       "1  -0.0851440958355541  -1.0634095782014796   0.3701441392047316   \n",
       "2  -0.9738603696757567  -0.7624844050686826  -1.6969555560320944   \n",
       "3  -0.5848588474900814  0.35579657121643693  0.43633645779564767   \n",
       "\n",
       "                   c27  label  \n",
       "0  -0.8768771621142933    sad  \n",
       "1  -0.8073163687330629  happy  \n",
       "2   1.6040261580395567  happy  \n",
       "3  0.08016737280779206    sad  \n",
       "\n",
       "[4 rows x 29 columns]"
      ]
     },
     "execution_count": 6,
     "metadata": {},
     "output_type": "execute_result"
    }
   ],
   "source": [
    "# Create dataframe from numpy arrays\n",
    "columns = [ 'c' + str(i) for i in range(28) ] + [ 'label' ]\n",
    "df = pd.DataFrame(data=data, columns=columns)\n",
    "df.head(5)"
   ]
  },
  {
   "cell_type": "code",
   "execution_count": 7,
   "metadata": {},
   "outputs": [],
   "source": [
    "# Create dummy labels\n",
    "df.label = pd.get_dummies(df.label, drop_first=True)"
   ]
  },
  {
   "cell_type": "code",
   "execution_count": 8,
   "metadata": {},
   "outputs": [
    {
     "name": "stdout",
     "output_type": "stream",
     "text": [
      "(3, 28) (3,)\n"
     ]
    }
   ],
   "source": [
    "# Create training and testing sets\n",
    "X = df.iloc[:,:-1]\n",
    "y = df['label']\n",
    "\n",
    "X_train, X_test, y_train, y_test = train_test_split(\n",
    "    X, y, test_size=0.25)\n",
    "print(X_train.shape, y_train.shape)"
   ]
  },
  {
   "cell_type": "code",
   "execution_count": 14,
   "metadata": {},
   "outputs": [
    {
     "data": {
      "text/plain": [
       "array([0], dtype=uint8)"
      ]
     },
     "execution_count": 14,
     "metadata": {},
     "output_type": "execute_result"
    }
   ],
   "source": [
    "# Define Random Forest Classifier model and predict label\n",
    "rf = RandomForestClassifier(max_depth=2, random_state=0)\n",
    "rf.fit(X, y)\n",
    "rf.predict(X_test)"
   ]
  },
  {
   "cell_type": "code",
   "execution_count": 15,
   "metadata": {},
   "outputs": [
    {
     "data": {
      "text/plain": [
       "array([[0.75, 0.25]])"
      ]
     },
     "execution_count": 15,
     "metadata": {},
     "output_type": "execute_result"
    }
   ],
   "source": [
    "# Get probability of prediction\n",
    "rf.predict_proba(X_test)"
   ]
  },
  {
   "cell_type": "code",
   "execution_count": 16,
   "metadata": {},
   "outputs": [
    {
     "data": {
      "text/plain": [
       "1.0"
      ]
     },
     "execution_count": 16,
     "metadata": {},
     "output_type": "execute_result"
    }
   ],
   "source": [
    "# Get score of prediction\n",
    "rf.score(X_test, y_test)"
   ]
  }
 ],
 "metadata": {
  "kernelspec": {
   "display_name": "Python 3",
   "language": "python",
   "name": "python3"
  },
  "language_info": {
   "codemirror_mode": {
    "name": "ipython",
    "version": 3
   },
   "file_extension": ".py",
   "mimetype": "text/x-python",
   "name": "python",
   "nbconvert_exporter": "python",
   "pygments_lexer": "ipython3",
   "version": "3.8.2"
  }
 },
 "nbformat": 4,
 "nbformat_minor": 4
}
