{
 "cells": [
  {
   "cell_type": "markdown",
   "metadata": {},
   "source": [
    "# Random Forest Classifier for Sentiment Analysis of Conversations"
   ]
  },
  {
   "cell_type": "code",
   "execution_count": 47,
   "metadata": {},
   "outputs": [],
   "source": [
    "from scipy.io.wavfile import read, write\n",
    "import librosa\n",
    "\n",
    "import matplotlib.pyplot as plt\n",
    "import numpy as np\n",
    "import pandas as pd\n",
    "import os\n",
    "\n",
    "from sklearn import preprocessing\n",
    "from sklearn.model_selection import train_test_split\n",
    "from sklearn.ensemble import RandomForestClassifier\n",
    "from sklearn.metrics import confusion_matrix, plot_confusion_matrix\n",
    "\n",
    "from Audio_Preprocess import *"
   ]
  },
  {
   "cell_type": "code",
   "execution_count": 31,
   "metadata": {},
   "outputs": [],
   "source": [
    "# Import data\n",
    "npz = np.load('Sentiment_analysis_data.npz')\n",
    "x = npz['inputs']\n",
    "y = npz['targets']"
   ]
  },
  {
   "cell_type": "code",
   "execution_count": 32,
   "metadata": {},
   "outputs": [],
   "source": [
    "# Standarise data\n",
    "scaled_x = preprocessing.scale(x)"
   ]
  },
  {
   "cell_type": "code",
   "execution_count": 33,
   "metadata": {},
   "outputs": [],
   "source": [
    "# Shuffle data\n",
    "n = x.shape[0]\n",
    "shuffled_indices = np.arange(n)\n",
    "np.random.shuffle(shuffled_indices)\n",
    "\n",
    "shuffled_x = scaled_x[shuffled_indices]\n",
    "shuffled_y = y[shuffled_indices]"
   ]
  },
  {
   "cell_type": "code",
   "execution_count": 34,
   "metadata": {},
   "outputs": [],
   "source": [
    "# Merge inputs and targets\n",
    "data = add_label_arrays(shuffled_x, np.expand_dims(shuffled_y, axis=1))"
   ]
  },
  {
   "cell_type": "code",
   "execution_count": 35,
   "metadata": {},
   "outputs": [
    {
     "data": {
      "text/html": [
       "<div>\n",
       "<style scoped>\n",
       "    .dataframe tbody tr th:only-of-type {\n",
       "        vertical-align: middle;\n",
       "    }\n",
       "\n",
       "    .dataframe tbody tr th {\n",
       "        vertical-align: top;\n",
       "    }\n",
       "\n",
       "    .dataframe thead th {\n",
       "        text-align: right;\n",
       "    }\n",
       "</style>\n",
       "<table border=\"1\" class=\"dataframe\">\n",
       "  <thead>\n",
       "    <tr style=\"text-align: right;\">\n",
       "      <th></th>\n",
       "      <th>c0</th>\n",
       "      <th>c1</th>\n",
       "      <th>c2</th>\n",
       "      <th>c3</th>\n",
       "      <th>c4</th>\n",
       "      <th>c5</th>\n",
       "      <th>c6</th>\n",
       "      <th>c7</th>\n",
       "      <th>c8</th>\n",
       "      <th>c9</th>\n",
       "      <th>...</th>\n",
       "      <th>c19</th>\n",
       "      <th>c20</th>\n",
       "      <th>c21</th>\n",
       "      <th>c22</th>\n",
       "      <th>c23</th>\n",
       "      <th>c24</th>\n",
       "      <th>c25</th>\n",
       "      <th>c26</th>\n",
       "      <th>c27</th>\n",
       "      <th>label</th>\n",
       "    </tr>\n",
       "  </thead>\n",
       "  <tbody>\n",
       "    <tr>\n",
       "      <th>0</th>\n",
       "      <td>-1.722461610369643</td>\n",
       "      <td>-0.45461745718567814</td>\n",
       "      <td>-0.33842945736291413</td>\n",
       "      <td>-0.6957676991252877</td>\n",
       "      <td>-0.47381413270230033</td>\n",
       "      <td>-0.35901413128027476</td>\n",
       "      <td>-1.0566666708024697</td>\n",
       "      <td>1.7676312113963568</td>\n",
       "      <td>0.7458391822012702</td>\n",
       "      <td>0.7698676572844283</td>\n",
       "      <td>...</td>\n",
       "      <td>0.008572988785990197</td>\n",
       "      <td>0.13915703506778995</td>\n",
       "      <td>-0.8489397819865642</td>\n",
       "      <td>-0.7612704825142728</td>\n",
       "      <td>0.046223099497422024</td>\n",
       "      <td>-0.30997973188523026</td>\n",
       "      <td>-0.861468661510853</td>\n",
       "      <td>-1.4096447225537607</td>\n",
       "      <td>1.3958971731871137</td>\n",
       "      <td>angry</td>\n",
       "    </tr>\n",
       "    <tr>\n",
       "      <th>1</th>\n",
       "      <td>-0.03384524881151424</td>\n",
       "      <td>0.9662435497556751</td>\n",
       "      <td>-0.7862739209249177</td>\n",
       "      <td>1.3392327611958292</td>\n",
       "      <td>1.4228524875997093</td>\n",
       "      <td>-0.9055246751124659</td>\n",
       "      <td>0.1746244517423411</td>\n",
       "      <td>0.89137837626366</td>\n",
       "      <td>-0.7586200259563617</td>\n",
       "      <td>-0.6808636442059773</td>\n",
       "      <td>...</td>\n",
       "      <td>0.5259730734122335</td>\n",
       "      <td>-0.8405825723200094</td>\n",
       "      <td>0.23559596437612032</td>\n",
       "      <td>-0.41554550467521434</td>\n",
       "      <td>0.4046487806340777</td>\n",
       "      <td>-0.39611316442791167</td>\n",
       "      <td>-0.48771300617772334</td>\n",
       "      <td>-0.12945309358077672</td>\n",
       "      <td>0.8809525101926431</td>\n",
       "      <td>neutral</td>\n",
       "    </tr>\n",
       "    <tr>\n",
       "      <th>2</th>\n",
       "      <td>0.465467702527864</td>\n",
       "      <td>0.1456830717210975</td>\n",
       "      <td>-0.17586021154235107</td>\n",
       "      <td>0.3713835193035593</td>\n",
       "      <td>0.24343944011373914</td>\n",
       "      <td>0.44703636351971743</td>\n",
       "      <td>-0.2809292435710941</td>\n",
       "      <td>1.5628620145495773</td>\n",
       "      <td>-0.5184643547931687</td>\n",
       "      <td>0.039549950053704916</td>\n",
       "      <td>...</td>\n",
       "      <td>0.40862770192492576</td>\n",
       "      <td>-0.6556398310135068</td>\n",
       "      <td>-0.7724708164529949</td>\n",
       "      <td>-0.3174189257565474</td>\n",
       "      <td>-0.32043644663000936</td>\n",
       "      <td>-0.5870691728735058</td>\n",
       "      <td>-0.01467311381104365</td>\n",
       "      <td>-0.015581521903346808</td>\n",
       "      <td>0.6052132655357902</td>\n",
       "      <td>neutral</td>\n",
       "    </tr>\n",
       "    <tr>\n",
       "      <th>3</th>\n",
       "      <td>0.04851052457015312</td>\n",
       "      <td>-1.3873328281774515</td>\n",
       "      <td>0.6692818476478491</td>\n",
       "      <td>-0.09119449483557908</td>\n",
       "      <td>-1.6879803605740944</td>\n",
       "      <td>1.3726216188220497</td>\n",
       "      <td>-1.5902045704049823</td>\n",
       "      <td>-0.940548652464377</td>\n",
       "      <td>1.7213641900011585</td>\n",
       "      <td>-1.6382403109553842</td>\n",
       "      <td>...</td>\n",
       "      <td>-0.21725540936554283</td>\n",
       "      <td>0.0028664464530281587</td>\n",
       "      <td>-0.4286113697385126</td>\n",
       "      <td>-0.0010842922310563166</td>\n",
       "      <td>-0.10460223380440965</td>\n",
       "      <td>0.6451864060371535</td>\n",
       "      <td>-0.26659669298118477</td>\n",
       "      <td>-0.5564540135370656</td>\n",
       "      <td>-0.5285182425658939</td>\n",
       "      <td>fear</td>\n",
       "    </tr>\n",
       "    <tr>\n",
       "      <th>4</th>\n",
       "      <td>0.24479126205985544</td>\n",
       "      <td>-0.8907570193940595</td>\n",
       "      <td>0.5897451984791496</td>\n",
       "      <td>-0.9199370881632281</td>\n",
       "      <td>0.908962341376741</td>\n",
       "      <td>0.15364885337599224</td>\n",
       "      <td>1.0476958602542379</td>\n",
       "      <td>1.1396402828528491</td>\n",
       "      <td>0.045768424942526524</td>\n",
       "      <td>1.555974488874848</td>\n",
       "      <td>...</td>\n",
       "      <td>0.6233746812885239</td>\n",
       "      <td>0.6931529942123552</td>\n",
       "      <td>1.8506712438616388</td>\n",
       "      <td>1.3447444117975882</td>\n",
       "      <td>1.7946088858709475</td>\n",
       "      <td>1.994939351556718</td>\n",
       "      <td>0.636713012033803</td>\n",
       "      <td>1.2983100861283685</td>\n",
       "      <td>-0.3166016788704323</td>\n",
       "      <td>surprise</td>\n",
       "    </tr>\n",
       "  </tbody>\n",
       "</table>\n",
       "<p>5 rows × 29 columns</p>\n",
       "</div>"
      ],
      "text/plain": [
       "                     c0                    c1                    c2  \\\n",
       "0    -1.722461610369643  -0.45461745718567814  -0.33842945736291413   \n",
       "1  -0.03384524881151424    0.9662435497556751   -0.7862739209249177   \n",
       "2     0.465467702527864    0.1456830717210975  -0.17586021154235107   \n",
       "3   0.04851052457015312   -1.3873328281774515    0.6692818476478491   \n",
       "4   0.24479126205985544   -0.8907570193940595    0.5897451984791496   \n",
       "\n",
       "                     c3                    c4                    c5  \\\n",
       "0   -0.6957676991252877  -0.47381413270230033  -0.35901413128027476   \n",
       "1    1.3392327611958292    1.4228524875997093   -0.9055246751124659   \n",
       "2    0.3713835193035593   0.24343944011373914   0.44703636351971743   \n",
       "3  -0.09119449483557908   -1.6879803605740944    1.3726216188220497   \n",
       "4   -0.9199370881632281     0.908962341376741   0.15364885337599224   \n",
       "\n",
       "                    c6                  c7                    c8  \\\n",
       "0  -1.0566666708024697  1.7676312113963568    0.7458391822012702   \n",
       "1   0.1746244517423411    0.89137837626366   -0.7586200259563617   \n",
       "2  -0.2809292435710941  1.5628620145495773   -0.5184643547931687   \n",
       "3  -1.5902045704049823  -0.940548652464377    1.7213641900011585   \n",
       "4   1.0476958602542379  1.1396402828528491  0.045768424942526524   \n",
       "\n",
       "                     c9  ...                   c19                    c20  \\\n",
       "0    0.7698676572844283  ...  0.008572988785990197    0.13915703506778995   \n",
       "1   -0.6808636442059773  ...    0.5259730734122335    -0.8405825723200094   \n",
       "2  0.039549950053704916  ...   0.40862770192492576    -0.6556398310135068   \n",
       "3   -1.6382403109553842  ...  -0.21725540936554283  0.0028664464530281587   \n",
       "4     1.555974488874848  ...    0.6233746812885239     0.6931529942123552   \n",
       "\n",
       "                   c21                     c22                   c23  \\\n",
       "0  -0.8489397819865642     -0.7612704825142728  0.046223099497422024   \n",
       "1  0.23559596437612032    -0.41554550467521434    0.4046487806340777   \n",
       "2  -0.7724708164529949     -0.3174189257565474  -0.32043644663000936   \n",
       "3  -0.4286113697385126  -0.0010842922310563166  -0.10460223380440965   \n",
       "4   1.8506712438616388      1.3447444117975882    1.7946088858709475   \n",
       "\n",
       "                    c24                   c25                    c26  \\\n",
       "0  -0.30997973188523026    -0.861468661510853    -1.4096447225537607   \n",
       "1  -0.39611316442791167  -0.48771300617772334   -0.12945309358077672   \n",
       "2   -0.5870691728735058  -0.01467311381104365  -0.015581521903346808   \n",
       "3    0.6451864060371535  -0.26659669298118477    -0.5564540135370656   \n",
       "4     1.994939351556718     0.636713012033803     1.2983100861283685   \n",
       "\n",
       "                   c27     label  \n",
       "0   1.3958971731871137     angry  \n",
       "1   0.8809525101926431   neutral  \n",
       "2   0.6052132655357902   neutral  \n",
       "3  -0.5285182425658939      fear  \n",
       "4  -0.3166016788704323  surprise  \n",
       "\n",
       "[5 rows x 29 columns]"
      ]
     },
     "execution_count": 35,
     "metadata": {},
     "output_type": "execute_result"
    }
   ],
   "source": [
    "# Create dataframe from numpy arrays\n",
    "columns = [ 'c' + str(i) for i in range(28) ] + [ 'label' ]\n",
    "df = pd.DataFrame(data=data, columns=columns)\n",
    "df.head(5)"
   ]
  },
  {
   "cell_type": "code",
   "execution_count": 37,
   "metadata": {},
   "outputs": [
    {
     "name": "stdout",
     "output_type": "stream",
     "text": [
      "(2089, 28) (2089,)\n"
     ]
    }
   ],
   "source": [
    "# Create training and testing sets\n",
    "X = df.iloc[:,:-1]\n",
    "y = df['label']\n",
    "\n",
    "X_train, X_test, y_train, y_test = train_test_split(\n",
    "    X, y, test_size=0.25)\n",
    "print(X_train.shape, y_train.shape)"
   ]
  },
  {
   "cell_type": "code",
   "execution_count": 41,
   "metadata": {},
   "outputs": [],
   "source": [
    "# Define Random Forest Classifier model and predict label\n",
    "rf = RandomForestClassifier(max_depth=2, random_state=0)\n",
    "rf.fit(X, y)\n",
    "y_test_pred = rf.predict(X_test)"
   ]
  },
  {
   "cell_type": "code",
   "execution_count": 43,
   "metadata": {},
   "outputs": [],
   "source": [
    "# Get probability of prediction\n",
    "y_test_prob = rf.predict_proba(X_test)"
   ]
  },
  {
   "cell_type": "code",
   "execution_count": 44,
   "metadata": {},
   "outputs": [
    {
     "data": {
      "text/plain": [
       "0.7546628407460545"
      ]
     },
     "execution_count": 44,
     "metadata": {},
     "output_type": "execute_result"
    }
   ],
   "source": [
    "# Get score of prediction\n",
    "rf.score(X_test, y_test)"
   ]
  },
  {
   "cell_type": "code",
   "execution_count": 53,
   "metadata": {},
   "outputs": [
    {
     "data": {
      "image/png": "[encoded data removed]",
      "text/plain": [
       "<Figure size 432x288 with 2 Axes>"
      ]
     },
     "metadata": {
      "needs_background": "light"
     },
     "output_type": "display_data"
    }
   ],
   "source": [
    "disp = plot_confusion_matrix(rf, X_test, y_test,\n",
    "                             cmap=plt.cm.Blues,\n",
    "                             xticks_rotation=45)"
   ]
  }
 ],
 "metadata": {
  "kernelspec": {
   "display_name": "Python 3",
   "language": "python",
   "name": "python3"
  },
  "language_info": {
   "codemirror_mode": {
    "name": "ipython",
    "version": 3
   },
   "file_extension": ".py",
   "mimetype": "text/x-python",
   "name": "python",
   "nbconvert_exporter": "python",
   "pygments_lexer": "ipython3",
   "version": "3.8.2"
  }
 },
 "nbformat": 4,
 "nbformat_minor": 4
}
